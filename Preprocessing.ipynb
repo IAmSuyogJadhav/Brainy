{
  "nbformat": 4,
  "nbformat_minor": 0,
  "metadata": {
    "colab": {
      "name": "Preprocessing.ipynb",
      "version": "0.3.2",
      "provenance": [],
      "collapsed_sections": [
        "YmlNdmLwZ8dB",
        "X_eIr7A8aX-M",
        "bMhXPaV4BQLq",
        "jXNMHNi3UKIe",
        "-QTO4bMDeHAd",
        "wx0Xhm5icvJ5"
      ],
      "include_colab_link": true
    },
    "kernelspec": {
      "name": "python3",
      "display_name": "Python 3"
    },
    "accelerator": "GPU"
  },
  "cells": [
    {
      "cell_type": "markdown",
      "metadata": {
        "id": "view-in-github",
        "colab_type": "text"
      },
      "source": [
        "<a href=\"https://colab.research.google.com/github/IAmSuyogJadhav/Brainy/blob/master/Preprocessing.ipynb\" target=\"_parent\"><img src=\"https://colab.research.google.com/assets/colab-badge.svg\" alt=\"Open In Colab\"/></a>"
      ]
    },
    {
      "metadata": {
        "id": "Wko-xq3TEfzk",
        "colab_type": "text"
      },
      "cell_type": "markdown",
      "source": [
        "# Preprocessing for Brainy\n",
        "\n",
        "<center><img src=\"https://www.suyogjadhav.com/images/thumbs/brainy.png\" height=100 width=100></center>\n",
        "\n",
        "- &#9745; N4 Bias Correction\n",
        "- &#9744; Skull Stripping\n",
        "- &#9744; Normalization"
      ]
    },
    {
      "metadata": {
        "id": "YmlNdmLwZ8dB",
        "colab_type": "text"
      },
      "cell_type": "markdown",
      "source": [
        "# Colab Stuff\n",
        "Things that need to be done once per Google Colaboratory session."
      ]
    },
    {
      "metadata": {
        "id": "yZjK3L57Y-ry",
        "colab_type": "text"
      },
      "cell_type": "markdown",
      "source": [
        "Mount the drive"
      ]
    },
    {
      "metadata": {
        "id": "nLip3q2HZkGq",
        "colab_type": "code",
        "outputId": "f4f0f8c5-b6d1-4a89-c775-5b2f6828a4f5",
        "colab": {
          "base_uri": "https://localhost:8080/",
          "height": 54
        }
      },
      "cell_type": "code",
      "source": [
        "from google.colab import drive\n",
        "drive.mount('/gdrive')\n",
        "# !cd /gdrive/\"My Drive\" && ls"
      ],
      "execution_count": 3,
      "outputs": [
        {
          "output_type": "stream",
          "text": [
            "Drive already mounted at /gdrive; to attempt to forcibly remount, call drive.mount(\"/gdrive\", force_remount=True).\n"
          ],
          "name": "stdout"
        }
      ]
    },
    {
      "metadata": {
        "id": "uymYxofUY7nM",
        "colab_type": "text"
      },
      "cell_type": "markdown",
      "source": [
        "Extract the dataset files"
      ]
    },
    {
      "metadata": {
        "id": "bOFOn6mbZ-b0",
        "colab_type": "code",
        "colab": {}
      },
      "cell_type": "code",
      "source": [
        "import zipfile\n",
        "zfile = zipfile.ZipFile(\"/gdrive/My Drive/BRATS2015.zip\")\n",
        "zfile.extractall()"
      ],
      "execution_count": 0,
      "outputs": []
    },
    {
      "metadata": {
        "id": "EuZBgDXBY4VW",
        "colab_type": "text"
      },
      "cell_type": "markdown",
      "source": [
        "Install the required libraries"
      ]
    },
    {
      "metadata": {
        "id": "QLSRqpRvZ-aG",
        "colab_type": "code",
        "outputId": "69453302-26b4-4942-c69e-f10fabcba624",
        "colab": {
          "base_uri": "https://localhost:8080/",
          "height": 2860
        }
      },
      "cell_type": "code",
      "source": [
        "# !pip install deepbrain\n",
        "!pip install simpleitk\n",
        "!pip install nipype[all]"
      ],
      "execution_count": 6,
      "outputs": [
        {
          "output_type": "stream",
          "text": [
            "Collecting simpleitk\n",
            "\u001b[?25l  Downloading https://files.pythonhosted.org/packages/45/ee/8ddd251cf447e1fc131622e925d538c2542780195ae75e26c122587630d1/SimpleITK-1.2.0-cp36-cp36m-manylinux1_x86_64.whl (42.5MB)\n",
            "\u001b[K    100% |████████████████████████████████| 42.5MB 484kB/s \n",
            "\u001b[?25hInstalling collected packages: simpleitk\n",
            "Successfully installed simpleitk-1.2.0\n",
            "Collecting nipype[all]\n",
            "\u001b[?25l  Downloading https://files.pythonhosted.org/packages/bc/b2/49dd03ea6b9dfdcd71911450c42e85177fb9349d4233bfc3601c987c53f0/nipype-1.1.9-py2.py3-none-any.whl (3.3MB)\n",
            "\u001b[K    100% |████████████████████████████████| 3.3MB 11.0MB/s \n",
            "\u001b[?25hCollecting prov>=1.5.2 (from nipype[all])\n",
            "\u001b[?25l  Downloading https://files.pythonhosted.org/packages/aa/f1/85f277cf15ce2fed6f189b220ff14d7b33b21cc7beb95ae48f1255672e74/prov-1.5.3-py2.py3-none-any.whl (423kB)\n",
            "\u001b[K    100% |████████████████████████████████| 430kB 29.2MB/s \n",
            "\u001b[?25hRequirement already satisfied: pydotplus in /usr/local/lib/python3.6/dist-packages (from nipype[all]) (2.0.2)\n",
            "Collecting traits>=4.6 (from nipype[all])\n",
            "\u001b[?25l  Downloading https://files.pythonhosted.org/packages/b7/20/9258e52af7e03265f838eb693386f0295b337e7d32974ffa150f5edc255b/traits-5.0.0.tar.gz (437kB)\n",
            "\u001b[K    100% |████████████████████████████████| 440kB 25.5MB/s \n",
            "\u001b[?25hCollecting simplejson>=3.8.0 (from nipype[all])\n",
            "\u001b[?25l  Downloading https://files.pythonhosted.org/packages/e3/24/c35fb1c1c315fc0fffe61ea00d3f88e85469004713dab488dee4f35b0aff/simplejson-3.16.0.tar.gz (81kB)\n",
            "\u001b[K    100% |████████████████████████████████| 81kB 24.5MB/s \n",
            "\u001b[?25hCollecting funcsigs (from nipype[all])\n",
            "  Downloading https://files.pythonhosted.org/packages/69/cb/f5be453359271714c01b9bd06126eaf2e368f1fddfff30818754b5ac2328/funcsigs-1.0.2-py2.py3-none-any.whl\n",
            "Collecting neurdflib (from nipype[all])\n",
            "\u001b[?25l  Downloading https://files.pythonhosted.org/packages/b9/47/f3acc236fcc523c7938dbd031cac45929b829ca6c4e5b9dc1acc858406d6/neurdflib-5.0.0.post1-py2.py3-none-any.whl (336kB)\n",
            "\u001b[K    100% |████████████████████████████████| 337kB 29.1MB/s \n",
            "\u001b[?25hRequirement already satisfied: pydot>=1.2.3 in /usr/local/lib/python3.6/dist-packages (from nipype[all]) (1.3.0)\n",
            "Requirement already satisfied: packaging in /usr/local/lib/python3.6/dist-packages (from nipype[all]) (19.0)\n",
            "Requirement already satisfied: networkx>=1.9 in /usr/local/lib/python3.6/dist-packages (from nipype[all]) (2.2)\n",
            "Requirement already satisfied: future>=0.16.0 in /usr/local/lib/python3.6/dist-packages (from nipype[all]) (0.16.0)\n",
            "Requirement already satisfied: click>=6.6.0 in /usr/local/lib/python3.6/dist-packages (from nipype[all]) (7.0)\n",
            "Requirement already satisfied: nibabel>=2.1.0 in /usr/local/lib/python3.6/dist-packages (from nipype[all]) (2.3.3)\n",
            "Requirement already satisfied: numpy>=1.9.0; python_version > \"3.0\" and python_version < \"3.7\" in /usr/local/lib/python3.6/dist-packages (from nipype[all]) (1.14.6)\n",
            "Requirement already satisfied: scipy>=0.14 in /usr/local/lib/python3.6/dist-packages (from nipype[all]) (1.1.0)\n",
            "Requirement already satisfied: python-dateutil>=2.2 in /usr/local/lib/python3.6/dist-packages (from nipype[all]) (2.5.3)\n",
            "Collecting pytest-cov; extra == \"all\" (from nipype[all])\n",
            "  Downloading https://files.pythonhosted.org/packages/7d/b5/92f32674ab954f80499ac73347bfeb815545ea295439c12b0ef3ac8f0975/pytest_cov-2.6.1-py2.py3-none-any.whl\n",
            "Collecting paramiko; extra == \"all\" (from nipype[all])\n",
            "\u001b[?25l  Downloading https://files.pythonhosted.org/packages/cf/ae/94e70d49044ccc234bfdba20114fa947d7ba6eb68a2e452d89b920e62227/paramiko-2.4.2-py2.py3-none-any.whl (193kB)\n",
            "\u001b[K    100% |████████████████████████████████| 194kB 30.4MB/s \n",
            "\u001b[?25hRequirement already satisfied: mock; extra == \"all\" in /usr/local/lib/python3.6/dist-packages (from nipype[all]) (2.0.0)\n",
            "Collecting nilearn<0.5.0; extra == \"all\" (from nipype[all])\n",
            "\u001b[?25l  Downloading https://files.pythonhosted.org/packages/f5/b8/ecf17d4ce0aee488ea4c1dc483cd191811f79c644010255258623988bd5b/nilearn-0.4.2-py2.py3-none-any.whl (979kB)\n",
            "\u001b[K    100% |████████████████████████████████| 983kB 23.5MB/s \n",
            "\u001b[?25hCollecting numpydoc; extra == \"all\" (from nipype[all])\n",
            "  Downloading https://files.pythonhosted.org/packages/95/a8/b4706a6270f0475541c5c1ee3373c7a3b793936ec1f517f1a1dab4f896c0/numpydoc-0.8.0.tar.gz\n",
            "Collecting xvfbwrapper; extra == \"all\" (from nipype[all])\n",
            "  Downloading https://files.pythonhosted.org/packages/57/b6/4920eabda9b49630dea58745e79f9919aba6408d460afe758bf6e9b21a04/xvfbwrapper-0.2.9.tar.gz\n",
            "Requirement already satisfied: pytest; extra == \"all\" in /usr/local/lib/python3.6/dist-packages (from nipype[all]) (3.6.4)\n",
            "Collecting yapf; extra == \"all\" (from nipype[all])\n",
            "\u001b[?25l  Downloading https://files.pythonhosted.org/packages/f7/b6/266774a11dc81539dcf3b5117cd7a3c1c2b11a47853940b7f0803cf389b2/yapf-0.26.0-py2.py3-none-any.whl (176kB)\n",
            "\u001b[K    100% |████████████████████████████████| 184kB 35.2MB/s \n",
            "\u001b[?25hCollecting codecov; extra == \"all\" (from nipype[all])\n",
            "  Downloading https://files.pythonhosted.org/packages/8b/28/4c1950a61c3c5786f0f34d643d0d28ec832433c9a7c0bd157690d4eb1d5f/codecov-2.0.15-py2.py3-none-any.whl\n",
            "Collecting nitime; extra == \"all\" (from nipype[all])\n",
            "\u001b[?25l  Downloading https://files.pythonhosted.org/packages/3e/87/0ace6af3c419779604a8fdb56a868dd624de04354ca79b2eff60e11f5fb3/nitime-0.7.tar.gz (10.0MB)\n",
            "\u001b[K    100% |████████████████████████████████| 10.0MB 3.8MB/s \n",
            "\u001b[?25hRequirement already satisfied: coverage<5; extra == \"all\" in /usr/local/lib/python3.6/dist-packages (from nipype[all]) (3.7.1)\n",
            "Collecting duecredit; extra == \"all\" (from nipype[all])\n",
            "\u001b[?25l  Downloading https://files.pythonhosted.org/packages/22/d1/7366b7b41a62ece9fe5fded08a7989b6ae5cd7d50292b5c730013f971c6d/duecredit-0.7.0.tar.gz (66kB)\n",
            "\u001b[K    100% |████████████████████████████████| 71kB 24.4MB/s \n",
            "\u001b[?25hRequirement already satisfied: matplotlib; extra == \"all\" in /usr/local/lib/python3.6/dist-packages (from nipype[all]) (3.0.3)\n",
            "Requirement already satisfied: Sphinx>=1.4; extra == \"all\" in /usr/local/lib/python3.6/dist-packages (from nipype[all]) (1.8.5)\n",
            "Collecting dipy; extra == \"all\" (from nipype[all])\n",
            "\u001b[?25l  Downloading https://files.pythonhosted.org/packages/55/3f/3d99c1b5066e05a8f26f5361aadcf2c42fa86590461ddf37be4c76187883/dipy-0.16.0-cp36-cp36m-manylinux1_x86_64.whl (7.9MB)\n",
            "\u001b[K    100% |████████████████████████████████| 7.9MB 986kB/s \n",
            "\u001b[?25hRequirement already satisfied: psutil>=5.0; extra == \"all\" in /usr/local/lib/python3.6/dist-packages (from nipype[all]) (5.4.8)\n",
            "Collecting nipy; extra == \"all\" (from nipype[all])\n",
            "\u001b[?25l  Downloading https://files.pythonhosted.org/packages/55/97/4dfcc0c4aa1b448d4dcf78041e85b42e600e35b7a06a6d389a6fa33ac9e3/nipy-0.4.2-cp36-cp36m-manylinux1_x86_64.whl (4.7MB)\n",
            "\u001b[K    100% |████████████████████████████████| 4.7MB 8.2MB/s \n",
            "\u001b[?25hCollecting pytest-env; extra == \"all\" (from nipype[all])\n",
            "  Downloading https://files.pythonhosted.org/packages/f9/6e/31efb8dc1d17052c12f39262223e94038bfcc4cc7a124235630a6d50f166/pytest-env-0.6.2.tar.gz\n",
            "Collecting pybids>=0.7.0; extra == \"all\" (from nipype[all])\n",
            "\u001b[?25l  Downloading https://files.pythonhosted.org/packages/b3/98/f64bc00977eb27680d1b973998b281f8976037a64ee6e07c0232f09f60fa/pybids-0.8.0.tar.gz (1.5MB)\n",
            "\u001b[K    100% |████████████████████████████████| 1.5MB 17.6MB/s \n",
            "\u001b[?25hRequirement already satisfied: lxml>=3.3.5 in /usr/local/lib/python3.6/dist-packages (from prov>=1.5.2->nipype[all]) (4.2.6)\n",
            "Requirement already satisfied: six>=1.9.0 in /usr/local/lib/python3.6/dist-packages (from prov>=1.5.2->nipype[all]) (1.11.0)\n",
            "Collecting rdflib>=4.2.1 (from prov>=1.5.2->nipype[all])\n",
            "\u001b[?25l  Downloading https://files.pythonhosted.org/packages/3c/fe/630bacb652680f6d481b9febbb3e2c3869194a1a5fc3401a4a41195a2f8f/rdflib-4.2.2-py3-none-any.whl (344kB)\n",
            "\u001b[K    100% |████████████████████████████████| 348kB 21.7MB/s \n",
            "\u001b[?25hRequirement already satisfied: pyparsing>=2.0.1 in /usr/local/lib/python3.6/dist-packages (from pydotplus->nipype[all]) (2.3.1)\n",
            "Collecting isodate (from neurdflib->nipype[all])\n",
            "\u001b[?25l  Downloading https://files.pythonhosted.org/packages/9b/9f/b36f7774ff5ea8e428fdcfc4bb332c39ee5b9362ddd3d40d9516a55221b2/isodate-0.6.0-py2.py3-none-any.whl (45kB)\n",
            "\u001b[K    100% |████████████████████████████████| 51kB 20.4MB/s \n",
            "\u001b[?25hRequirement already satisfied: decorator>=4.3.0 in /usr/local/lib/python3.6/dist-packages (from networkx>=1.9->nipype[all]) (4.4.0)\n",
            "Requirement already satisfied: bz2file in /usr/local/lib/python3.6/dist-packages (from nibabel>=2.1.0->nipype[all]) (0.98)\n",
            "Requirement already satisfied: pyasn1>=0.1.7 in /usr/local/lib/python3.6/dist-packages (from paramiko; extra == \"all\"->nipype[all]) (0.4.5)\n",
            "Collecting bcrypt>=3.1.3 (from paramiko; extra == \"all\"->nipype[all])\n",
            "\u001b[?25l  Downloading https://files.pythonhosted.org/packages/d0/79/79a4d167a31cc206117d9b396926615fa9c1fdbd52017bcced80937ac501/bcrypt-3.1.6-cp34-abi3-manylinux1_x86_64.whl (55kB)\n",
            "\u001b[K    100% |████████████████████████████████| 61kB 22.3MB/s \n",
            "\u001b[?25hCollecting cryptography>=1.5 (from paramiko; extra == \"all\"->nipype[all])\n",
            "\u001b[?25l  Downloading https://files.pythonhosted.org/packages/5b/12/b0409a94dad366d98a8eee2a77678c7a73aafd8c0e4b835abea634ea3896/cryptography-2.6.1-cp34-abi3-manylinux1_x86_64.whl (2.3MB)\n",
            "\u001b[K    100% |████████████████████████████████| 2.3MB 11.7MB/s \n",
            "\u001b[?25hCollecting pynacl>=1.0.1 (from paramiko; extra == \"all\"->nipype[all])\n",
            "\u001b[?25l  Downloading https://files.pythonhosted.org/packages/27/15/2cd0a203f318c2240b42cd9dd13c931ddd61067809fee3479f44f086103e/PyNaCl-1.3.0-cp34-abi3-manylinux1_x86_64.whl (759kB)\n",
            "\u001b[K    100% |████████████████████████████████| 768kB 24.3MB/s \n",
            "\u001b[?25hRequirement already satisfied: pbr>=0.11 in /usr/local/lib/python3.6/dist-packages (from mock; extra == \"all\"->nipype[all]) (5.1.3)\n",
            "Requirement already satisfied: Jinja2>=2.3 in /usr/local/lib/python3.6/dist-packages (from numpydoc; extra == \"all\"->nipype[all]) (2.10)\n",
            "Requirement already satisfied: atomicwrites>=1.0 in /usr/local/lib/python3.6/dist-packages (from pytest; extra == \"all\"->nipype[all]) (1.3.0)\n",
            "Requirement already satisfied: more-itertools>=4.0.0 in /usr/local/lib/python3.6/dist-packages (from pytest; extra == \"all\"->nipype[all]) (6.0.0)\n",
            "Requirement already satisfied: py>=1.5.0 in /usr/local/lib/python3.6/dist-packages (from pytest; extra == \"all\"->nipype[all]) (1.8.0)\n",
            "Requirement already satisfied: pluggy<0.8,>=0.5 in /usr/local/lib/python3.6/dist-packages (from pytest; extra == \"all\"->nipype[all]) (0.7.1)\n",
            "Requirement already satisfied: setuptools in /usr/local/lib/python3.6/dist-packages (from pytest; extra == \"all\"->nipype[all]) (40.8.0)\n",
            "Requirement already satisfied: attrs>=17.4.0 in /usr/local/lib/python3.6/dist-packages (from pytest; extra == \"all\"->nipype[all]) (19.1.0)\n",
            "Requirement already satisfied: requests>=2.7.9 in /usr/local/lib/python3.6/dist-packages (from codecov; extra == \"all\"->nipype[all]) (2.18.4)\n",
            "Collecting citeproc-py>=0.4 (from duecredit; extra == \"all\"->nipype[all])\n",
            "\u001b[?25l  Downloading https://files.pythonhosted.org/packages/22/9a/d3383c4af068d0e82ec71fd88c74ae55e85b49c0acaf9951b3075c8a3b40/citeproc_py-0.4.0-py2.py3-none-any.whl (155kB)\n",
            "\u001b[K    100% |████████████████████████████████| 163kB 31.2MB/s \n",
            "\u001b[?25hRequirement already satisfied: cycler>=0.10 in /usr/local/lib/python3.6/dist-packages (from matplotlib; extra == \"all\"->nipype[all]) (0.10.0)\n",
            "Requirement already satisfied: kiwisolver>=1.0.1 in /usr/local/lib/python3.6/dist-packages (from matplotlib; extra == \"all\"->nipype[all]) (1.0.1)\n",
            "Requirement already satisfied: Pygments>=2.0 in /usr/local/lib/python3.6/dist-packages (from Sphinx>=1.4; extra == \"all\"->nipype[all]) (2.1.3)\n",
            "Requirement already satisfied: snowballstemmer>=1.1 in /usr/local/lib/python3.6/dist-packages (from Sphinx>=1.4; extra == \"all\"->nipype[all]) (1.2.1)\n",
            "Requirement already satisfied: imagesize in /usr/local/lib/python3.6/dist-packages (from Sphinx>=1.4; extra == \"all\"->nipype[all]) (1.1.0)\n",
            "Requirement already satisfied: alabaster<0.8,>=0.7 in /usr/local/lib/python3.6/dist-packages (from Sphinx>=1.4; extra == \"all\"->nipype[all]) (0.7.12)\n",
            "Requirement already satisfied: babel!=2.0,>=1.3 in /usr/local/lib/python3.6/dist-packages (from Sphinx>=1.4; extra == \"all\"->nipype[all]) (2.6.0)\n",
            "Requirement already satisfied: docutils>=0.11 in /usr/local/lib/python3.6/dist-packages (from Sphinx>=1.4; extra == \"all\"->nipype[all]) (0.14)\n",
            "Requirement already satisfied: sphinxcontrib-websupport in /usr/local/lib/python3.6/dist-packages (from Sphinx>=1.4; extra == \"all\"->nipype[all]) (1.1.0)\n",
            "Requirement already satisfied: h5py>=2.4.0 in /usr/local/lib/python3.6/dist-packages (from dipy; extra == \"all\"->nipype[all]) (2.8.0)\n",
            "Requirement already satisfied: sympy>=0.7.0 in /usr/local/lib/python3.6/dist-packages (from nipy; extra == \"all\"->nipype[all]) (1.1.1)\n",
            "Collecting num2words (from pybids>=0.7.0; extra == \"all\"->nipype[all])\n",
            "\u001b[?25l  Downloading https://files.pythonhosted.org/packages/97/59/daea20448b3bf3cc07694f393a2a9d06439e4c9a96f83734d9d2c5231703/num2words-0.5.9-py3-none-any.whl (99kB)\n",
            "\u001b[K    100% |████████████████████████████████| 102kB 28.5MB/s \n",
            "\u001b[?25hCollecting pandas>=0.23.0 (from pybids>=0.7.0; extra == \"all\"->nipype[all])\n",
            "\u001b[?25l  Downloading https://files.pythonhosted.org/packages/19/74/e50234bc82c553fecdbd566d8650801e3fe2d6d8c8d940638e3d8a7c5522/pandas-0.24.2-cp36-cp36m-manylinux1_x86_64.whl (10.1MB)\n",
            "\u001b[K    100% |████████████████████████████████| 10.1MB 4.4MB/s \n",
            "\u001b[?25hRequirement already satisfied: patsy in /usr/local/lib/python3.6/dist-packages (from pybids>=0.7.0; extra == \"all\"->nipype[all]) (0.5.1)\n",
            "Collecting bids-validator (from pybids>=0.7.0; extra == \"all\"->nipype[all])\n",
            "  Downloading https://files.pythonhosted.org/packages/88/48/678bf379cc30d8c7ccbe9bfd57dc39948b8b73c4c3e7619c3a8ef1678184/bids_validator-1.2.2-py2.py3-none-any.whl\n",
            "Requirement already satisfied: cffi>=1.1 in /usr/local/lib/python3.6/dist-packages (from bcrypt>=3.1.3->paramiko; extra == \"all\"->nipype[all]) (1.12.2)\n",
            "Collecting asn1crypto>=0.21.0 (from cryptography>=1.5->paramiko; extra == \"all\"->nipype[all])\n",
            "\u001b[?25l  Downloading https://files.pythonhosted.org/packages/ea/cd/35485615f45f30a510576f1a56d1e0a7ad7bd8ab5ed7cdc600ef7cd06222/asn1crypto-0.24.0-py2.py3-none-any.whl (101kB)\n",
            "\u001b[K    100% |████████████████████████████████| 102kB 27.5MB/s \n",
            "\u001b[?25hRequirement already satisfied: MarkupSafe>=0.23 in /usr/local/lib/python3.6/dist-packages (from Jinja2>=2.3->numpydoc; extra == \"all\"->nipype[all]) (1.1.1)\n",
            "Requirement already satisfied: chardet<3.1.0,>=3.0.2 in /usr/local/lib/python3.6/dist-packages (from requests>=2.7.9->codecov; extra == \"all\"->nipype[all]) (3.0.4)\n",
            "Requirement already satisfied: idna<2.7,>=2.5 in /usr/local/lib/python3.6/dist-packages (from requests>=2.7.9->codecov; extra == \"all\"->nipype[all]) (2.6)\n",
            "Requirement already satisfied: certifi>=2017.4.17 in /usr/local/lib/python3.6/dist-packages (from requests>=2.7.9->codecov; extra == \"all\"->nipype[all]) (2019.3.9)\n",
            "Requirement already satisfied: urllib3<1.23,>=1.21.1 in /usr/local/lib/python3.6/dist-packages (from requests>=2.7.9->codecov; extra == \"all\"->nipype[all]) (1.22)\n",
            "Requirement already satisfied: pytz>=0a in /usr/local/lib/python3.6/dist-packages (from babel!=2.0,>=1.3->Sphinx>=1.4; extra == \"all\"->nipype[all]) (2018.9)\n",
            "Requirement already satisfied: mpmath>=0.19 in /usr/local/lib/python3.6/dist-packages (from sympy>=0.7.0->nipy; extra == \"all\"->nipype[all]) (1.1.0)\n",
            "Requirement already satisfied: docopt>=0.6.2 in /usr/local/lib/python3.6/dist-packages (from num2words->pybids>=0.7.0; extra == \"all\"->nipype[all]) (0.6.2)\n",
            "Requirement already satisfied: pycparser in /usr/local/lib/python3.6/dist-packages (from cffi>=1.1->bcrypt>=3.1.3->paramiko; extra == \"all\"->nipype[all]) (2.19)\n",
            "Building wheels for collected packages: traits, simplejson, numpydoc, xvfbwrapper, nitime, duecredit, pytest-env, pybids\n",
            "  Building wheel for traits (setup.py) ... \u001b[?25ldone\n",
            "\u001b[?25h  Stored in directory: /root/.cache/pip/wheels/76/67/28/94d45ce50a5f0f07550201cef0f32915b096952513c5e87a89\n",
            "  Building wheel for simplejson (setup.py) ... \u001b[?25ldone\n",
            "\u001b[?25h  Stored in directory: /root/.cache/pip/wheels/5d/1a/1e/0350bb3df3e74215cd91325344cc86c2c691f5306eb4d22c77\n",
            "  Building wheel for numpydoc (setup.py) ... \u001b[?25ldone\n",
            "\u001b[?25h  Stored in directory: /root/.cache/pip/wheels/ea/55/7f/3e25d754760ccd62d6796e5b2cfe25629346f52ea00753d549\n",
            "  Building wheel for xvfbwrapper (setup.py) ... \u001b[?25ldone\n",
            "\u001b[?25h  Stored in directory: /root/.cache/pip/wheels/10/f2/61/cacfaf84b352c223761ea8d19616e3b5ac5c27364da72863f0\n",
            "  Building wheel for nitime (setup.py) ... \u001b[?25ldone\n",
            "\u001b[?25h  Stored in directory: /root/.cache/pip/wheels/82/51/e2/458b11877e0568fa7254a5e396879c591e58f68374bd5b84f2\n",
            "  Building wheel for duecredit (setup.py) ... \u001b[?25ldone\n",
            "\u001b[?25h  Stored in directory: /root/.cache/pip/wheels/50/00/9b/4d562fc3dbd184fa68ffc9dfdbc57b5c83e9bcfd8cf4b6a042\n",
            "  Building wheel for pytest-env (setup.py) ... \u001b[?25ldone\n",
            "\u001b[?25h  Stored in directory: /root/.cache/pip/wheels/75/fc/26/357bc139b726977ab08817308ce76d96a26bdbe2329a43b15a\n",
            "  Building wheel for pybids (setup.py) ... \u001b[?25ldone\n",
            "\u001b[?25h  Stored in directory: /root/.cache/pip/wheels/25/66/83/79381f2409c2e78fe74748e5e2fa7d3d5c4a59ea017281eaad\n",
            "Successfully built traits simplejson numpydoc xvfbwrapper nitime duecredit pytest-env pybids\n",
            "\u001b[31mfastai 1.0.50.post1 has requirement numpy>=1.15, but you'll have numpy 1.14.6 which is incompatible.\u001b[0m\n",
            "\u001b[31mpytest-cov 2.6.1 has requirement coverage>=4.4, but you'll have coverage 3.7.1 which is incompatible.\u001b[0m\n",
            "Installing collected packages: isodate, rdflib, prov, traits, simplejson, funcsigs, neurdflib, pytest-cov, bcrypt, asn1crypto, cryptography, pynacl, paramiko, nilearn, numpydoc, xvfbwrapper, yapf, codecov, nitime, citeproc-py, duecredit, dipy, nipy, pytest-env, num2words, pandas, bids-validator, pybids, nipype\n",
            "  Found existing installation: pandas 0.22.0\n",
            "    Uninstalling pandas-0.22.0:\n",
            "      Successfully uninstalled pandas-0.22.0\n",
            "Successfully installed asn1crypto-0.24.0 bcrypt-3.1.6 bids-validator-1.2.2 citeproc-py-0.4.0 codecov-2.0.15 cryptography-2.6.1 dipy-0.16.0 duecredit-0.7.0 funcsigs-1.0.2 isodate-0.6.0 neurdflib-5.0.0.post1 nilearn-0.4.2 nipy-0.4.2 nipype-1.1.9 nitime-0.7 num2words-0.5.9 numpydoc-0.8.0 pandas-0.24.2 paramiko-2.4.2 prov-1.5.3 pybids-0.8.0 pynacl-1.3.0 pytest-cov-2.6.1 pytest-env-0.6.2 rdflib-4.2.2 simplejson-3.16.0 traits-5.0.0 xvfbwrapper-0.2.9 yapf-0.26.0\n"
          ],
          "name": "stdout"
        },
        {
          "output_type": "display_data",
          "data": {
            "application/vnd.colab-display-data+json": {
              "pip_warning": {
                "packages": [
                  "pandas"
                ]
              }
            }
          },
          "metadata": {
            "tags": []
          }
        }
      ]
    },
    {
      "metadata": {
        "id": "uKkX-WZsYwSI",
        "colab_type": "text"
      },
      "cell_type": "markdown",
      "source": [
        "Install pre-built ANTs binaries"
      ]
    },
    {
      "metadata": {
        "id": "slsyG1cA10mX",
        "colab_type": "code",
        "colab": {
          "base_uri": "https://localhost:8080/",
          "height": 423
        },
        "outputId": "a76bf007-284a-407b-f38d-457cf3b82d4b"
      },
      "cell_type": "code",
      "source": [
        "!7z x '/gdrive/My Drive/ANTs-28-03-2019.7z'\n",
        "!cp bin/* /usr/local/bin"
      ],
      "execution_count": 7,
      "outputs": [
        {
          "output_type": "stream",
          "text": [
            "\n",
            "7-Zip [64] 16.02 : Copyright (c) 1999-2016 Igor Pavlov : 2016-05-21\n",
            "p7zip Version 16.02 (locale=en_US.UTF-8,Utf16=on,HugeFiles=on,64 bits,2 CPUs Intel(R) Xeon(R) CPU @ 2.30GHz (306F0),ASM,AES-NI)\n",
            "\n",
            "Scanning the drive for archives:\n",
            "  0M Scan /gdrive/My Drive/\b\b\b\b\b\b\b\b\b\b\b\b\b\b\b\b\b\b\b\b\b\b\b\b\b\b\b                           \b\b\b\b\b\b\b\b\b\b\b\b\b\b\b\b\b\b\b\b\b\b\b\b\b\b\b1 file, 315597527 bytes (301 MiB)\n",
            "\n",
            "Extracting archive: /gdrive/My Drive/ANTs-28-03-2019.7z\n",
            "--\n",
            "Path = /gdrive/My Drive/ANTs-28-03-2019.7z\n",
            "Type = 7z\n",
            "Physical Size = 315597527\n",
            "Headers Size = 2380\n",
            "Method = LZMA2:24 BCJ\n",
            "Solid = +\n",
            "Blocks = 1\n",
            "\n",
            "  0%\b\b\b\b    \b\b\b\b  0% 1 - bin/ANTS\b\b\b\b\b\b\b\b\b\b\b\b\b\b\b\b\b                 \b\b\b\b\b\b\b\b\b\b\b\b\b\b\b\b\b  1% 1 - bin/ANTS\b\b\b\b\b\b\b\b\b\b\b\b\b\b\b\b\b                 \b\b\b\b\b\b\b\b\b\b\b\b\b\b\b\b\b  1% 2 - bin/ANTSIntegrateVectorField\b\b\b\b\b\b\b\b\b\b\b\b\b\b\b\b\b\b\b\b\b\b\b\b\b\b\b\b\b\b\b\b\b\b\b\b\b                                     \b\b\b\b\b\b\b\b\b\b\b\b\b\b\b\b\b\b\b\b\b\b\b\b\b\b\b\b\b\b\b\b\b\b\b\b\b  2% 2 - bin/ANTSIntegrateVectorField\b\b\b\b\b\b\b\b\b\b\b\b\b\b\b\b\b\b\b\b\b\b\b\b\b\b\b\b\b\b\b\b\b\b\b\b\b                                     \b\b\b\b\b\b\b\b\b\b\b\b\b\b\b\b\b\b\b\b\b\b\b\b\b\b\b\b\b\b\b\b\b\b\b\b\b  2% 3 - bin/ANTSIntegrateVelocityField\b\b\b\b\b\b\b\b\b\b\b\b\b\b\b\b\b\b\b\b\b\b\b\b\b\b\b\b\b\b\b\b\b\b\b\b\b\b\b                                       \b\b\b\b\b\b\b\b\b\b\b\b\b\b\b\b\b\b\b\b\b\b\b\b\b\b\b\b\b\b\b\b\b\b\b\b\b\b\b  3% 3 - bin/ANTSIntegrateVelocityField\b\b\b\b\b\b\b\b\b\b\b\b\b\b\b\b\b\b\b\b\b\b\b\b\b\b\b\b\b\b\b\b\b\b\b\b\b\b\b                                       \b\b\b\b\b\b\b\b\b\b\b\b\b\b\b\b\b\b\b\b\b\b\b\b\b\b\b\b\b\b\b\b\b\b\b\b\b\b\b  3% 4 - bin/ANTSJacobian\b\b\b\b\b\b\b\b\b\b\b\b\b\b\b\b\b\b\b\b\b\b\b\b\b                         \b\b\b\b\b\b\b\b\b\b\b\b\b\b\b\b\b\b\b\b\b\b\b\b\b  4% 4 - bin/ANTSJacobian\b\b\b\b\b\b\b\b\b\b\b\b\b\b\b\b\b\b\b\b\b\b\b\b\b                         \b\b\b\b\b\b\b\b\b\b\b\b\b\b\b\b\b\b\b\b\b\b\b\b\b  4% 5 - bin/ANTSUseDeformationFieldToGetAffineTransform\b\b\b\b\b\b\b\b\b\b\b\b\b\b\b\b\b\b\b\b\b\b\b\b\b\b\b\b\b\b\b\b\b\b\b\b\b\b\b\b\b\b\b\b\b\b\b\b\b\b\b\b\b\b\b\b                                                        \b\b\b\b\b\b\b\b\b\b\b\b\b\b\b\b\b\b\b\b\b\b\b\b\b\b\b\b\b\b\b\b\b\b\b\b\b\b\b\b\b\b\b\b\b\b\b\b\b\b\b\b\b\b\b\b  5% 5 - bin/ANTSUseDeformationFieldToGetAffineTransform\b\b\b\b\b\b\b\b\b\b\b\b\b\b\b\b\b\b\b\b\b\b\b\b\b\b\b\b\b\b\b\b\b\b\b\b\b\b\b\b\b\b\b\b\b\b\b\b\b\b\b\b\b\b\b\b                                                        \b\b\b\b\b\b\b\b\b\b\b\b\b\b\b\b\b\b\b\b\b\b\b\b\b\b\b\b\b\b\b\b\b\b\b\b\b\b\b\b\b\b\b\b\b\b\b\b\b\b\b\b\b\b\b\b  5% 6 - bin/ANTSUseLandmarkImagesToGetAffineTransform\b\b\b\b\b\b\b\b\b\b\b\b\b\b\b\b\b\b\b\b\b\b\b\b\b\b\b\b\b\b\b\b\b\b\b\b\b\b\b\b\b\b\b\b\b\b\b\b\b\b\b\b\b\b                                                      \b\b\b\b\b\b\b\b\b\b\b\b\b\b\b\b\b\b\b\b\b\b\b\b\b\b\b\b\b\b\b\b\b\b\b\b\b\b\b\b\b\b\b\b\b\b\b\b\b\b\b\b\b\b  6% 6 - bin/ANTSUseLandmarkImagesToGetAffineTransform\b\b\b\b\b\b\b\b\b\b\b\b\b\b\b\b\b\b\b\b\b\b\b\b\b\b\b\b\b\b\b\b\b\b\b\b\b\b\b\b\b\b\b\b\b\b\b\b\b\b\b\b\b\b                                                      \b\b\b\b\b\b\b\b\b\b\b\b\b\b\b\b\b\b\b\b\b\b\b\b\b\b\b\b\b\b\b\b\b\b\b\b\b\b\b\b\b\b\b\b\b\b\b\b\b\b\b\b\b\b  6% 7 - bin/ANTSUseLandmarkImagesToGetBSplineDisplacementField\b\b\b\b\b\b\b\b\b\b\b\b\b\b\b\b\b\b\b\b\b\b\b\b\b\b\b\b\b\b\b\b\b\b\b\b\b\b\b\b\b\b\b\b\b\b\b\b\b\b\b\b\b\b\b\b\b\b\b\b\b\b\b                                                               \b\b\b\b\b\b\b\b\b\b\b\b\b\b\b\b\b\b\b\b\b\b\b\b\b\b\b\b\b\b\b\b\b\b\b\b\b\b\b\b\b\b\b\b\b\b\b\b\b\b\b\b\b\b\b\b\b\b\b\b\b\b\b  7% 7 - bin/ANTSUseLandmarkImagesToGetBSplineDisplacementField\b\b\b\b\b\b\b\b\b\b\b\b\b\b\b\b\b\b\b\b\b\b\b\b\b\b\b\b\b\b\b\b\b\b\b\b\b\b\b\b\b\b\b\b\b\b\b\b\b\b\b\b\b\b\b\b\b\b\b\b\b\b\b                                                               \b\b\b\b\b\b\b\b\b\b\b\b\b\b\b\b\b\b\b\b\b\b\b\b\b\b\b\b\b\b\b\b\b\b\b\b\b\b\b\b\b\b\b\b\b\b\b\b\b\b\b\b\b\b\b\b\b\b\b\b\b\b\b  7% 8 - bin/Atropos\b\b\b\b\b\b\b\b\b\b\b\b\b\b\b\b\b\b\b\b                    \b\b\b\b\b\b\b\b\b\b\b\b\b\b\b\b\b\b\b\b  8% 8 - bin/Atropos\b\b\b\b\b\b\b\b\b\b\b\b\b\b\b\b\b\b\b\b                    \b\b\b\b\b\b\b\b\b\b\b\b\b\b\b\b\b\b\b\b  8% 9 - bin/AverageAffineTransform\b\b\b\b\b\b\b\b\b\b\b\b\b\b\b\b\b\b\b\b\b\b\b\b\b\b\b\b\b\b\b\b\b\b\b                                   \b\b\b\b\b\b\b\b\b\b\b\b\b\b\b\b\b\b\b\b\b\b\b\b\b\b\b\b\b\b\b\b\b\b\b  9% 9 - bin/AverageAffineTransform\b\b\b\b\b\b\b\b\b\b\b\b\b\b\b\b\b\b\b\b\b\b\b\b\b\b\b\b\b\b\b\b\b\b\b                                   \b\b\b\b\b\b\b\b\b\b\b\b\b\b\b\b\b\b\b\b\b\b\b\b\b\b\b\b\b\b\b\b\b\b\b 10% 10 - bin/AverageAffineTransformNoRigid\b\b\b\b\b\b\b\b\b\b\b\b\b\b\b\b\b\b\b\b\b\b\b\b\b\b\b\b\b\b\b\b\b\b\b\b\b\b\b\b\b\b\b                                           \b\b\b\b\b\b\b\b\b\b\b\b\b\b\b\b\b\b\b\b\b\b\b\b\b\b\b\b\b\b\b\b\b\b\b\b\b\b\b\b\b\b\b 11% 10 - bin/AverageAffineTransformNoRigid\b\b\b\b\b\b\b\b\b\b\b\b\b\b\b\b\b\b\b\b\b\b\b\b\b\b\b\b\b\b\b\b\b\b\b\b\b\b\b\b\b\b\b                                           \b\b\b\b\b\b\b\b\b\b\b\b\b\b\b\b\b\b\b\b\b\b\b\b\b\b\b\b\b\b\b\b\b\b\b\b\b\b\b\b\b\b\b 11% 11 - bin/AverageImages\b\b\b\b\b\b\b\b\b\b\b\b\b\b\b\b\b\b\b\b\b\b\b\b\b\b\b                           \b\b\b\b\b\b\b\b\b\b\b\b\b\b\b\b\b\b\b\b\b\b\b\b\b\b\b 12% 12 - bin/AverageTensorImages\b\b\b\b\b\b\b\b\b\b\b\b\b\b\b\b\b\b\b\b\b\b\b\b\b\b\b\b\b\b\b\b\b                                 \b\b\b\b\b\b\b\b\b\b\b\b\b\b\b\b\b\b\b\b\b\b\b\b\b\b\b\b\b\b\b\b\b 12% 13 - bin/ClusterImageStatistics\b\b\b\b\b\b\b\b\b\b\b\b\b\b\b\b\b\b\b\b\b\b\b\b\b\b\b\b\b\b\b\b\b\b\b\b                                    \b\b\b\b\b\b\b\b\b\b\b\b\b\b\b\b\b\b\b\b\b\b\b\b\b\b\b\b\b\b\b\b\b\b\b\b 13% 14 - bin/ComposeMultiTransform\b\b\b\b\b\b\b\b\b\b\b\b\b\b\b\b\b\b\b\b\b\b\b\b\b\b\b\b\b\b\b\b\b\b\b                                   \b\b\b\b\b\b\b\b\b\b\b\b\b\b\b\b\b\b\b\b\b\b\b\b\b\b\b\b\b\b\b\b\b\b\b 14% 14 - bin/ComposeMultiTransform\b\b\b\b\b\b\b\b\b\b\b\b\b\b\b\b\b\b\b\b\b\b\b\b\b\b\b\b\b\b\b\b\b\b\b                                   \b\b\b\b\b\b\b\b\b\b\b\b\b\b\b\b\b\b\b\b\b\b\b\b\b\b\b\b\b\b\b\b\b\b\b 15% 15 - bin/CompositeTransformUtil\b\b\b\b\b\b\b\b\b\b\b\b\b\b\b\b\b\b\b\b\b\b\b\b\b\b\b\b\b\b\b\b\b\b\b\b                                    \b\b\b\b\b\b\b\b\b\b\b\b\b\b\b\b\b\b\b\b\b\b\b\b\b\b\b\b\b\b\b\b\b\b\b\b 16% 15 - bin/CompositeTransformUtil\b\b\b\b\b\b\b\b\b\b\b\b\b\b\b\b\b\b\b\b\b\b\b\b\b\b\b\b\b\b\b\b\b\b\b\b                                    \b\b\b\b\b\b\b\b\b\b\b\b\b\b\b\b\b\b\b\b\b\b\b\b\b\b\b\b\b\b\b\b\b\b\b\b 16% 16 - bin/ConvertImage\b\b\b\b\b\b\b\b\b\b\b\b\b\b\b\b\b\b\b\b\b\b\b\b\b\b                          \b\b\b\b\b\b\b\b\b\b\b\b\b\b\b\b\b\b\b\b\b\b\b\b\b\b 17% 16 - bin/ConvertImage\b\b\b\b\b\b\b\b\b\b\b\b\b\b\b\b\b\b\b\b\b\b\b\b\b\b                          \b\b\b\b\b\b\b\b\b\b\b\b\b\b\b\b\b\b\b\b\b\b\b\b\b\b 17% 17 - bin/ConvertImagePixelType\b\b\b\b\b\b\b\b\b\b\b\b\b\b\b\b\b\b\b\b\b\b\b\b\b\b\b\b\b\b\b\b\b\b\b                                   \b\b\b\b\b\b\b\b\b\b\b\b\b\b\b\b\b\b\b\b\b\b\b\b\b\b\b\b\b\b\b\b\b\b\b 18% 18 - bin/ConvertInputImagePixelTypeToFloat\b\b\b\b\b\b\b\b\b\b\b\b\b\b\b\b\b\b\b\b\b\b\b\b\b\b\b\b\b\b\b\b\b\b\b\b\b\b\b\b\b\b\b\b\b\b\b                                               \b\b\b\b\b\b\b\b\b\b\b\b\b\b\b\b\b\b\b\b\b\b\b\b\b\b\b\b\b\b\b\b\b\b\b\b\b\b\b\b\b\b\b\b\b\b\b 19% 19 - bin/ConvertScalarImageToRGB\b\b\b\b\b\b\b\b\b\b\b\b\b\b\b\b\b\b\b\b\b\b\b\b\b\b\b\b\b\b\b\b\b\b\b\b\b                                     \b\b\b\b\b\b\b\b\b\b\b\b\b\b\b\b\b\b\b\b\b\b\b\b\b\b\b\b\b\b\b\b\b\b\b\b\b 20% 20 - bin/ConvertToJpg\b\b\b\b\b\b\b\b\b\b\b\b\b\b\b\b\b\b\b\b\b\b\b\b\b\b                          \b\b\b\b\b\b\b\b\b\b\b\b\b\b\b\b\b\b\b\b\b\b\b\b\b\b 20% 21 - bin/ConvertTransformFile\b\b\b\b\b\b\b\b\b\b\b\b\b\b\b\b\b\b\b\b\b\b\b\b\b\b\b\b\b\b\b\b\b\b                                  \b\b\b\b\b\b\b\b\b\b\b\b\b\b\b\b\b\b\b\b\b\b\b\b\b\b\b\b\b\b\b\b\b\b 21% 21 - bin/ConvertTransformFile\b\b\b\b\b\b\b\b\b\b\b\b\b\b\b\b\b\b\b\b\b\b\b\b\b\b\b\b\b\b\b\b\b\b                                  \b\b\b\b\b\b\b\b\b\b\b\b\b\b\b\b\b\b\b\b\b\b\b\b\b\b\b\b\b\b\b\b\b\b 22% 22 - bin/CopyImageHeaderInformation\b\b\b\b\b\b\b\b\b\b\b\b\b\b\b\b\b\b\b\b\b\b\b\b\b\b\b\b\b\b\b\b\b\b\b\b\b\b\b\b                                        \b\b\b\b\b\b\b\b\b\b\b\b\b\b\b\b\b\b\b\b\b\b\b\b\b\b\b\b\b\b\b\b\b\b\b\b\b\b\b\b 22% 23 - bin/CreateDTICohort\b\b\b\b\b\b\b\b\b\b\b\b\b\b\b\b\b\b\b\b\b\b\b\b\b\b\b\b\b                             \b\b\b\b\b\b\b\b\b\b\b\b\b\b\b\b\b\b\b\b\b\b\b\b\b\b\b\b\b 23% 23 - bin/CreateDTICohort\b\b\b\b\b\b\b\b\b\b\b\b\b\b\b\b\b\b\b\b\b\b\b\b\b\b\b\b\b                             \b\b\b\b\b\b\b\b\b\b\b\b\b\b\b\b\b\b\b\b\b\b\b\b\b\b\b\b\b 24% 24 - bin/CreateDisplacementField\b\b\b\b\b\b\b\b\b\b\b\b\b\b\b\b\b\b\b\b\b\b\b\b\b\b\b\b\b\b\b\b\b\b\b\b\b                                     \b\b\b\b\b\b\b\b\b\b\b\b\b\b\b\b\b\b\b\b\b\b\b\b\b\b\b\b\b\b\b\b\b\b\b\b\b 24% 25 - bin/CreateImage\b\b\b\b\b\b\b\b\b\b\b\b\b\b\b\b\b\b\b\b\b\b\b\b\b                         \b\b\b\b\b\b\b\b\b\b\b\b\b\b\b\b\b\b\b\b\b\b\b\b\b 25% 26 - bin/CreateJacobianDeterminantImage\b\b\b\b\b\b\b\b\b\b\b\b\b\b\b\b\b\b\b\b\b\b\b\b\b\b\b\b\b\b\b\b\b\b\b\b\b\b\b\b\b\b\b\b                                            \b\b\b\b\b\b\b\b\b\b\b\b\b\b\b\b\b\b\b\b\b\b\b\b\b\b\b\b\b\b\b\b\b\b\b\b\b\b\b\b\b\b\b\b 26% 27 - bin/CreateTiledMosaic\b\b\b\b\b\b\b\b\b\b\b\b\b\b\b\b\b\b\b\b\b\b\b\b\b\b\b\b\b\b\b                               \b\b\b\b\b\b\b\b\b\b\b\b\b\b\b\b\b\b\b\b\b\b\b\b\b\b\b\b\b\b\b 27% 28 - bin/CreateWarpedGridImage\b\b\b\b\b\b\b\b\b\b\b\b\b\b\b\b\b\b\b\b\b\b\b\b\b\b\b\b\b\b\b\b\b\b\b                                   \b\b\b\b\b\b\b\b\b\b\b\b\b\b\b\b\b\b\b\b\b\b\b\b\b\b\b\b\b\b\b\b\b\b\b 28% 29 - bin/DeNrrd\b\b\b\b\b\b\b\b\b\b\b\b\b\b\b\b\b\b\b\b                    \b\b\b\b\b\b\b\b\b\b\b\b\b\b\b\b\b\b\b\b 29% 30 - bin/DenoiseImage\b\b\b\b\b\b\b\b\b\b\b\b\b\b\b\b\b\b\b\b\b\b\b\b\b\b                          \b\b\b\b\b\b\b\b\b\b\b\b\b\b\b\b\b\b\b\b\b\b\b\b\b\b 29% 31 - bin/ExtractRegionFromImage\b\b\b\b\b\b\b\b\b\b\b\b\b\b\b\b\b\b\b\b\b\b\b\b\b\b\b\b\b\b\b\b\b\b\b\b                                    \b\b\b\b\b\b\b\b\b\b\b\b\b\b\b\b\b\b\b\b\b\b\b\b\b\b\b\b\b\b\b\b\b\b\b\b 30% 32 - bin/ExtractRegionFromImageByMask\b\b\b\b\b\b\b\b\b\b\b\b\b\b\b\b\b\b\b\b\b\b\b\b\b\b\b\b\b\b\b\b\b\b\b\b\b\b\b\b\b\b                                          \b\b\b\b\b\b\b\b\b\b\b\b\b\b\b\b\b\b\b\b\b\b\b\b\b\b\b\b\b\b\b\b\b\b\b\b\b\b\b\b\b\b 31% 33 - bin/ExtractSliceFromImage\b\b\b\b\b\b\b\b\b\b\b\b\b\b\b\b\b\b\b\b\b\b\b\b\b\b\b\b\b\b\b\b\b\b\b                                   \b\b\b\b\b\b\b\b\b\b\b\b\b\b\b\b\b\b\b\b\b\b\b\b\b\b\b\b\b\b\b\b\b\b\b 32% 34 - bin/FitBSplineToPoints\b\b\b\b\b\b\b\b\b\b\b\b\b\b\b\b\b\b\b\b\b\b\b\b\b\b\b\b\b\b\b\b                                \b\b\b\b\b\b\b\b\b\b\b\b\b\b\b\b\b\b\b\b\b\b\b\b\b\b\b\b\b\b\b\b 33% 35 - bin/GetConnectedComponentsFeatureImages\b\b\b\b\b\b\b\b\b\b\b\b\b\b\b\b\b\b\b\b\b\b\b\b\b\b\b\b\b\b\b\b\b\b\b\b\b\b\b\b\b\b\b\b\b\b\b\b\b                                                 \b\b\b\b\b\b\b\b\b\b\b\b\b\b\b\b\b\b\b\b\b\b\b\b\b\b\b\b\b\b\b\b\b\b\b\b\b\b\b\b\b\b\b\b\b\b\b\b\b 33% 38 - bin/ImageCompare\b\b\b\b\b\b\b\b\b\b\b\b\b\b\b\b\b\b\b\b\b\b\b\b\b\b                          \b\b\b\b\b\b\b\b\b\b\b\b\b\b\b\b\b\b\b\b\b\b\b\b\b\b 34% 39 - bin/ImageIntensityStatistics\b\b\b\b\b\b\b\b\b\b\b\b\b\b\b\b\b\b\b\b\b\b\b\b\b\b\b\b\b\b\b\b\b\b\b\b\b\b                                      \b\b\b\b\b\b\b\b\b\b\b\b\b\b\b\b\b\b\b\b\b\b\b\b\b\b\b\b\b\b\b\b\b\b\b\b\b\b 34% 40 - bin/ImageMath\b\b\b\b\b\b\b\b\b\b\b\b\b\b\b\b\b\b\b\b\b\b\b                       \b\b\b\b\b\b\b\b\b\b\b\b\b\b\b\b\b\b\b\b\b\b\b 35% 40 - bin/ImageMath\b\b\b\b\b\b\b\b\b\b\b\b\b\b\b\b\b\b\b\b\b\b\b                       \b\b\b\b\b\b\b\b\b\b\b\b\b\b\b\b\b\b\b\b\b\b\b 36% 40 - bin/ImageMath\b\b\b\b\b\b\b\b\b\b\b\b\b\b\b\b\b\b\b\b\b\b\b                       \b\b\b\b\b\b\b\b\b\b\b\b\b\b\b\b\b\b\b\b\b\b\b 36% 41 - bin/ImageSetStatistics\b\b\b\b\b\b\b\b\b\b\b\b\b\b\b\b\b\b\b\b\b\b\b\b\b\b\b\b\b\b\b\b                                \b\b\b\b\b\b\b\b\b\b\b\b\b\b\b\b\b\b\b\b\b\b\b\b\b\b\b\b\b\b\b\b 37% 41 - bin/ImageSetStatistics\b\b\b\b\b\b\b\b\b\b\b\b\b\b\b\b\b\b\b\b\b\b\b\b\b\b\b\b\b\b\b\b                                \b\b\b\b\b\b\b\b\b\b\b\b\b\b\b\b\b\b\b\b\b\b\b\b\b\b\b\b\b\b\b\b 38% 42 - bin/KellyKapowski\b\b\b\b\b\b\b\b\b\b\b\b\b\b\b\b\b\b\b\b\b\b\b\b\b\b\b                           \b\b\b\b\b\b\b\b\b\b\b\b\b\b\b\b\b\b\b\b\b\b\b\b\b\b\b 38% 43 - bin/KellySlater\b\b\b\b\b\b\b\b\b\b\b\b\b\b\b\b\b\b\b\b\b\b\b\b\b                         \b\b\b\b\b\b\b\b\b\b\b\b\b\b\b\b\b\b\b\b\b\b\b\b\b 39% 43 - bin/KellySlater\b\b\b\b\b\b\b\b\b\b\b\b\b\b\b\b\b\b\b\b\b\b\b\b\b                         \b\b\b\b\b\b\b\b\b\b\b\b\b\b\b\b\b\b\b\b\b\b\b\b\b 39% 44 - bin/LabelClustersUniquely\b\b\b\b\b\b\b\b\b\b\b\b\b\b\b\b\b\b\b\b\b\b\b\b\b\b\b\b\b\b\b\b\b\b\b                                   \b\b\b\b\b\b\b\b\b\b\b\b\b\b\b\b\b\b\b\b\b\b\b\b\b\b\b\b\b\b\b\b\b\b\b 40% 44 - bin/LabelClustersUniquely\b\b\b\b\b\b\b\b\b\b\b\b\b\b\b\b\b\b\b\b\b\b\b\b\b\b\b\b\b\b\b\b\b\b\b                                   \b\b\b\b\b\b\b\b\b\b\b\b\b\b\b\b\b\b\b\b\b\b\b\b\b\b\b\b\b\b\b\b\b\b\b 40% 45 - bin/LabelGeometryMeasures\b\b\b\b\b\b\b\b\b\b\b\b\b\b\b\b\b\b\b\b\b\b\b\b\b\b\b\b\b\b\b\b\b\b\b                                   \b\b\b\b\b\b\b\b\b\b\b\b\b\b\b\b\b\b\b\b\b\b\b\b\b\b\b\b\b\b\b\b\b\b\b 41% 45 - bin/LabelGeometryMeasures\b\b\b\b\b\b\b\b\b\b\b\b\b\b\b\b\b\b\b\b\b\b\b\b\b\b\b\b\b\b\b\b\b\b\b                                   \b\b\b\b\b\b\b\b\b\b\b\b\b\b\b\b\b\b\b\b\b\b\b\b\b\b\b\b\b\b\b\b\b\b\b 42% 46 - bin/LabelOverlapMeasures\b\b\b\b\b\b\b\b\b\b\b\b\b\b\b\b\b\b\b\b\b\b\b\b\b\b\b\b\b\b\b\b\b\b                                  \b\b\b\b\b\b\b\b\b\b\b\b\b\b\b\b\b\b\b\b\b\b\b\b\b\b\b\b\b\b\b\b\b\b 42% 47 - bin/LaplacianThickness\b\b\b\b\b\b\b\b\b\b\b\b\b\b\b\b\b\b\b\b\b\b\b\b\b\b\b\b\b\b\b\b                                \b\b\b\b\b\b\b\b\b\b\b\b\b\b\b\b\b\b\b\b\b\b\b\b\b\b\b\b\b\b\b\b 43% 48 - bin/LesionFilling\b\b\b\b\b\b\b\b\b\b\b\b\b\b\b\b\b\b\b\b\b\b\b\b\b\b\b                           \b\b\b\b\b\b\b\b\b\b\b\b\b\b\b\b\b\b\b\b\b\b\b\b\b\b\b 44% 49 - bin/MeasureImageSimilarity\b\b\b\b\b\b\b\b\b\b\b\b\b\b\b\b\b\b\b\b\b\b\b\b\b\b\b\b\b\b\b\b\b\b\b\b                                    \b\b\b\b\b\b\b\b\b\b\b\b\b\b\b\b\b\b\b\b\b\b\b\b\b\b\b\b\b\b\b\b\b\b\b\b 45% 49 - bin/MeasureImageSimilarity\b\b\b\b\b\b\b\b\b\b\b\b\b\b\b\b\b\b\b\b\b\b\b\b\b\b\b\b\b\b\b\b\b\b\b\b                                    \b\b\b\b\b\b\b\b\b\b\b\b\b\b\b\b\b\b\b\b\b\b\b\b\b\b\b\b\b\b\b\b\b\b\b\b 45% 50 - bin/MeasureMinMaxMean\b\b\b\b\b\b\b\b\b\b\b\b\b\b\b\b\b\b\b\b\b\b\b\b\b\b\b\b\b\b\b                               \b\b\b\b\b\b\b\b\b\b\b\b\b\b\b\b\b\b\b\b\b\b\b\b\b\b\b\b\b\b\b 46% 50 - bin/MeasureMinMaxMean\b\b\b\b\b\b\b\b\b\b\b\b\b\b\b\b\b\b\b\b\b\b\b\b\b\b\b\b\b\b\b                               \b\b\b\b\b\b\b\b\b\b\b\b\b\b\b\b\b\b\b\b\b\b\b\b\b\b\b\b\b\b\b 47% 51 - bin/MemoryTest\b\b\b\b\b\b\b\b\b\b\b\b\b\b\b\b\b\b\b\b\b\b\b\b                        \b\b\b\b\b\b\b\b\b\b\b\b\b\b\b\b\b\b\b\b\b\b\b\b 47% 52 - bin/MultiplyImages\b\b\b\b\b\b\b\b\b\b\b\b\b\b\b\b\b\b\b\b\b\b\b\b\b\b\b\b                            \b\b\b\b\b\b\b\b\b\b\b\b\b\b\b\b\b\b\b\b\b\b\b\b\b\b\b\b 48% 52 - bin/MultiplyImages\b\b\b\b\b\b\b\b\b\b\b\b\b\b\b\b\b\b\b\b\b\b\b\b\b\b\b\b                            \b\b\b\b\b\b\b\b\b\b\b\b\b\b\b\b\b\b\b\b\b\b\b\b\b\b\b\b 48% 53 - bin/N3BiasFieldCorrection\b\b\b\b\b\b\b\b\b\b\b\b\b\b\b\b\b\b\b\b\b\b\b\b\b\b\b\b\b\b\b\b\b\b\b                                   \b\b\b\b\b\b\b\b\b\b\b\b\b\b\b\b\b\b\b\b\b\b\b\b\b\b\b\b\b\b\b\b\b\b\b 49% 54 - bin/N4BiasFieldCorrection\b\b\b\b\b\b\b\b\b\b\b\b\b\b\b\b\b\b\b\b\b\b\b\b\b\b\b\b\b\b\b\b\b\b\b                                   \b\b\b\b\b\b\b\b\b\b\b\b\b\b\b\b\b\b\b\b\b\b\b\b\b\b\b\b\b\b\b\b\b\b\b 50% 54 - bin/N4BiasFieldCorrection\b\b\b\b\b\b\b\b\b\b\b\b\b\b\b\b\b\b\b\b\b\b\b\b\b\b\b\b\b\b\b\b\b\b\b                                   \b\b\b\b\b\b\b\b\b\b\b\b\b\b\b\b\b\b\b\b\b\b\b\b\b\b\b\b\b\b\b\b\b\b\b 50% 55 - bin/NonLocalSuperResolution\b\b\b\b\b\b\b\b\b\b\b\b\b\b\b\b\b\b\b\b\b\b\b\b\b\b\b\b\b\b\b\b\b\b\b\b\b                                     \b\b\b\b\b\b\b\b\b\b\b\b\b\b\b\b\b\b\b\b\b\b\b\b\b\b\b\b\b\b\b\b\b\b\b\b\b 51% 55 - bin/NonLocalSuperResolution\b\b\b\b\b\b\b\b\b\b\b\b\b\b\b\b\b\b\b\b\b\b\b\b\b\b\b\b\b\b\b\b\b\b\b\b\b                                     \b\b\b\b\b\b\b\b\b\b\b\b\b\b\b\b\b\b\b\b\b\b\b\b\b\b\b\b\b\b\b\b\b\b\b\b\b 51% 56 - bin/PasteImageIntoImage\b\b\b\b\b\b\b\b\b\b\b\b\b\b\b\b\b\b\b\b\b\b\b\b\b\b\b\b\b\b\b\b\b                                 \b\b\b\b\b\b\b\b\b\b\b\b\b\b\b\b\b\b\b\b\b\b\b\b\b\b\b\b\b\b\b\b\b 52% 57 - bin/PermuteFlipImageOrientationAxes\b\b\b\b\b\b\b\b\b\b\b\b\b\b\b\b\b\b\b\b\b\b\b\b\b\b\b\b\b\b\b\b\b\b\b\b\b\b\b\b\b\b\b\b\b                                             \b\b\b\b\b\b\b\b\b\b\b\b\b\b\b\b\b\b\b\b\b\b\b\b\b\b\b\b\b\b\b\b\b\b\b\b\b\b\b\b\b\b\b\b\b 53% 58 - bin/PrintHeader\b\b\b\b\b\b\b\b\b\b\b\b\b\b\b\b\b\b\b\b\b\b\b\b\b                         \b\b\b\b\b\b\b\b\b\b\b\b\b\b\b\b\b\b\b\b\b\b\b\b\b 54% 59 - bin/RebaseTensorImage\b\b\b\b\b\b\b\b\b\b\b\b\b\b\b\b\b\b\b\b\b\b\b\b\b\b\b\b\b\b\b                               \b\b\b\b\b\b\b\b\b\b\b\b\b\b\b\b\b\b\b\b\b\b\b\b\b\b\b\b\b\b\b 54% 60 - bin/ReorientTensorImage\b\b\b\b\b\b\b\b\b\b\b\b\b\b\b\b\b\b\b\b\b\b\b\b\b\b\b\b\b\b\b\b\b                                 \b\b\b\b\b\b\b\b\b\b\b\b\b\b\b\b\b\b\b\b\b\b\b\b\b\b\b\b\b\b\b\b\b 55% 60 - bin/ReorientTensorImage\b\b\b\b\b\b\b\b\b\b\b\b\b\b\b\b\b\b\b\b\b\b\b\b\b\b\b\b\b\b\b\b\b                                 \b\b\b\b\b\b\b\b\b\b\b\b\b\b\b\b\b\b\b\b\b\b\b\b\b\b\b\b\b\b\b\b\b 55% 61 - bin/ResampleImage\b\b\b\b\b\b\b\b\b\b\b\b\b\b\b\b\b\b\b\b\b\b\b\b\b\b\b                           \b\b\b\b\b\b\b\b\b\b\b\b\b\b\b\b\b\b\b\b\b\b\b\b\b\b\b 56% 61 - bin/ResampleImage\b\b\b\b\b\b\b\b\b\b\b\b\b\b\b\b\b\b\b\b\b\b\b\b\b\b\b                           \b\b\b\b\b\b\b\b\b\b\b\b\b\b\b\b\b\b\b\b\b\b\b\b\b\b\b 57% 61 - bin/ResampleImage\b\b\b\b\b\b\b\b\b\b\b\b\b\b\b\b\b\b\b\b\b\b\b\b\b\b\b                           \b\b\b\b\b\b\b\b\b\b\b\b\b\b\b\b\b\b\b\b\b\b\b\b\b\b\b 57% 62 - bin/ResampleImageBySpacing\b\b\b\b\b\b\b\b\b\b\b\b\b\b\b\b\b\b\b\b\b\b\b\b\b\b\b\b\b\b\b\b\b\b\b\b                                    \b\b\b\b\b\b\b\b\b\b\b\b\b\b\b\b\b\b\b\b\b\b\b\b\b\b\b\b\b\b\b\b\b\b\b\b 58% 62 - bin/ResampleImageBySpacing\b\b\b\b\b\b\b\b\b\b\b\b\b\b\b\b\b\b\b\b\b\b\b\b\b\b\b\b\b\b\b\b\b\b\b\b                                    \b\b\b\b\b\b\b\b\b\b\b\b\b\b\b\b\b\b\b\b\b\b\b\b\b\b\b\b\b\b\b\b\b\b\b\b 58% 63 - bin/ResetDirection\b\b\b\b\b\b\b\b\b\b\b\b\b\b\b\b\b\b\b\b\b\b\b\b\b\b\b\b                            \b\b\b\b\b\b\b\b\b\b\b\b\b\b\b\b\b\b\b\b\b\b\b\b\b\b\b\b 59% 65 - bin/SetOrigin\b\b\b\b\b\b\b\b\b\b\b\b\b\b\b\b\b\b\b\b\b\b\b                       \b\b\b\b\b\b\b\b\b\b\b\b\b\b\b\b\b\b\b\b\b\b\b 60% 66 - bin/SetSpacing\b\b\b\b\b\b\b\b\b\b\b\b\b\b\b\b\b\b\b\b\b\b\b\b                        \b\b\b\b\b\b\b\b\b\b\b\b\b\b\b\b\b\b\b\b\b\b\b\b 61% 67 - bin/SimulateDisplacementField\b\b\b\b\b\b\b\b\b\b\b\b\b\b\b\b\b\b\b\b\b\b\b\b\b\b\b\b\b\b\b\b\b\b\b\b\b\b\b                                       \b\b\b\b\b\b\b\b\b\b\b\b\b\b\b\b\b\b\b\b\b\b\b\b\b\b\b\b\b\b\b\b\b\b\b\b\b\b\b 62% 68 - bin/SmoothDisplacementField\b\b\b\b\b\b\b\b\b\b\b\b\b\b\b\b\b\b\b\b\b\b\b\b\b\b\b\b\b\b\b\b\b\b\b\b\b                                     \b\b\b\b\b\b\b\b\b\b\b\b\b\b\b\b\b\b\b\b\b\b\b\b\b\b\b\b\b\b\b\b\b\b\b\b\b 63% 70 - bin/StackSlices\b\b\b\b\b\b\b\b\b\b\b\b\b\b\b\b\b\b\b\b\b\b\b\b\b                         \b\b\b\b\b\b\b\b\b\b\b\b\b\b\b\b\b\b\b\b\b\b\b\b\b 64% 71 - bin/SuperResolution\b\b\b\b\b\b\b\b\b\b\b\b\b\b\b\b\b\b\b\b\b\b\b\b\b\b\b\b\b                             \b\b\b\b\b\b\b\b\b\b\b\b\b\b\b\b\b\b\b\b\b\b\b\b\b\b\b\b\b 65% 71 - bin/SuperResolution\b\b\b\b\b\b\b\b\b\b\b\b\b\b\b\b\b\b\b\b\b\b\b\b\b\b\b\b\b                             \b\b\b\b\b\b\b\b\b\b\b\b\b\b\b\b\b\b\b\b\b\b\b\b\b\b\b\b\b 65% 72 - bin/SurfaceBasedSmoothing\b\b\b\b\b\b\b\b\b\b\b\b\b\b\b\b\b\b\b\b\b\b\b\b\b\b\b\b\b\b\b\b\b\b\b                                   \b\b\b\b\b\b\b\b\b\b\b\b\b\b\b\b\b\b\b\b\b\b\b\b\b\b\b\b\b\b\b\b\b\b\b 66% 74 - bin/TextureCooccurrenceFeatures\b\b\b\b\b\b\b\b\b\b\b\b\b\b\b\b\b\b\b\b\b\b\b\b\b\b\b\b\b\b\b\b\b\b\b\b\b\b\b\b\b                                         \b\b\b\b\b\b\b\b\b\b\b\b\b\b\b\b\b\b\b\b\b\b\b\b\b\b\b\b\b\b\b\b\b\b\b\b\b\b\b\b\b 67% 75 - bin/TextureRunLengthFeatures\b\b\b\b\b\b\b\b\b\b\b\b\b\b\b\b\b\b\b\b\b\b\b\b\b\b\b\b\b\b\b\b\b\b\b\b\b\b                                      \b\b\b\b\b\b\b\b\b\b\b\b\b\b\b\b\b\b\b\b\b\b\b\b\b\b\b\b\b\b\b\b\b\b\b\b\b\b 69% 76 - bin/ThresholdImage\b\b\b\b\b\b\b\b\b\b\b\b\b\b\b\b\b\b\b\b\b\b\b\b\b\b\b\b                            \b\b\b\b\b\b\b\b\b\b\b\b\b\b\b\b\b\b\b\b\b\b\b\b\b\b\b\b 69% 78 - bin/TimeSCCAN\b\b\b\b\b\b\b\b\b\b\b\b\b\b\b\b\b\b\b\b\b\b\b                       \b\b\b\b\b\b\b\b\b\b\b\b\b\b\b\b\b\b\b\b\b\b\b 70% 78 - bin/TimeSCCAN\b\b\b\b\b\b\b\b\b\b\b\b\b\b\b\b\b\b\b\b\b\b\b                       \b\b\b\b\b\b\b\b\b\b\b\b\b\b\b\b\b\b\b\b\b\b\b 71% 79 - bin/WarpImageMultiTransform\b\b\b\b\b\b\b\b\b\b\b\b\b\b\b\b\b\b\b\b\b\b\b\b\b\b\b\b\b\b\b\b\b\b\b\b\b                                     \b\b\b\b\b\b\b\b\b\b\b\b\b\b\b\b\b\b\b\b\b\b\b\b\b\b\b\b\b\b\b\b\b\b\b\b\b 72% 79 - bin/WarpImageMultiTransform\b\b\b\b\b\b\b\b\b\b\b\b\b\b\b\b\b\b\b\b\b\b\b\b\b\b\b\b\b\b\b\b\b\b\b\b\b                                     \b\b\b\b\b\b\b\b\b\b\b\b\b\b\b\b\b\b\b\b\b\b\b\b\b\b\b\b\b\b\b\b\b\b\b\b\b 72% 80 - bin/WarpTensorImageMultiTransform\b\b\b\b\b\b\b\b\b\b\b\b\b\b\b\b\b\b\b\b\b\b\b\b\b\b\b\b\b\b\b\b\b\b\b\b\b\b\b\b\b\b\b                                           \b\b\b\b\b\b\b\b\b\b\b\b\b\b\b\b\b\b\b\b\b\b\b\b\b\b\b\b\b\b\b\b\b\b\b\b\b\b\b\b\b\b\b 73% 80 - bin/WarpTensorImageMultiTransform\b\b\b\b\b\b\b\b\b\b\b\b\b\b\b\b\b\b\b\b\b\b\b\b\b\b\b\b\b\b\b\b\b\b\b\b\b\b\b\b\b\b\b                                           \b\b\b\b\b\b\b\b\b\b\b\b\b\b\b\b\b\b\b\b\b\b\b\b\b\b\b\b\b\b\b\b\b\b\b\b\b\b\b\b\b\b\b 73% 81 - bin/WarpTimeSeriesImageMultiTransform\b\b\b\b\b\b\b\b\b\b\b\b\b\b\b\b\b\b\b\b\b\b\b\b\b\b\b\b\b\b\b\b\b\b\b\b\b\b\b\b\b\b\b\b\b\b\b                                               \b\b\b\b\b\b\b\b\b\b\b\b\b\b\b\b\b\b\b\b\b\b\b\b\b\b\b\b\b\b\b\b\b\b\b\b\b\b\b\b\b\b\b\b\b\b\b 74% 81 - bin/WarpTimeSeriesImageMultiTransform\b\b\b\b\b\b\b\b\b\b\b\b\b\b\b\b\b\b\b\b\b\b\b\b\b\b\b\b\b\b\b\b\b\b\b\b\b\b\b\b\b\b\b\b\b\b\b                                               \b\b\b\b\b\b\b\b\b\b\b\b\b\b\b\b\b\b\b\b\b\b\b\b\b\b\b\b\b\b\b\b\b\b\b\b\b\b\b\b\b\b\b\b\b\b\b 74% 82 - bin/antsAI\b\b\b\b\b\b\b\b\b\b\b\b\b\b\b\b\b\b\b\b                    \b\b\b\b\b\b\b\b\b\b\b\b\b\b\b\b\b\b\b\b 75% 82 - bin/antsAI\b\b\b\b\b\b\b\b\b\b\b\b\b\b\b\b\b\b\b\b                    \b\b\b\b\b\b\b\b\b\b\b\b\b\b\b\b\b\b\b\b 76% 83 - bin/antsAffineInitializer\b\b\b\b\b\b\b\b\b\b\b\b\b\b\b\b\b\b\b\b\b\b\b\b\b\b\b\b\b\b\b\b\b\b\b                                   \b\b\b\b\b\b\b\b\b\b\b\b\b\b\b\b\b\b\b\b\b\b\b\b\b\b\b\b\b\b\b\b\b\b\b 77% 83 - bin/antsAffineInitializer\b\b\b\b\b\b\b\b\b\b\b\b\b\b\b\b\b\b\b\b\b\b\b\b\b\b\b\b\b\b\b\b\b\b\b                                   \b\b\b\b\b\b\b\b\b\b\b\b\b\b\b\b\b\b\b\b\b\b\b\b\b\b\b\b\b\b\b\b\b\b\b 77% 84 - bin/antsAlignOrigin\b\b\b\b\b\b\b\b\b\b\b\b\b\b\b\b\b\b\b\b\b\b\b\b\b\b\b\b\b                             \b\b\b\b\b\b\b\b\b\b\b\b\b\b\b\b\b\b\b\b\b\b\b\b\b\b\b\b\b 78% 84 - bin/antsAlignOrigin\b\b\b\b\b\b\b\b\b\b\b\b\b\b\b\b\b\b\b\b\b\b\b\b\b\b\b\b\b                             \b\b\b\b\b\b\b\b\b\b\b\b\b\b\b\b\b\b\b\b\b\b\b\b\b\b\b\b\b 78% 85 - bin/antsApplyTransforms\b\b\b\b\b\b\b\b\b\b\b\b\b\b\b\b\b\b\b\b\b\b\b\b\b\b\b\b\b\b\b\b\b                                 \b\b\b\b\b\b\b\b\b\b\b\b\b\b\b\b\b\b\b\b\b\b\b\b\b\b\b\b\b\b\b\b\b 79% 85 - bin/antsApplyTransforms\b\b\b\b\b\b\b\b\b\b\b\b\b\b\b\b\b\b\b\b\b\b\b\b\b\b\b\b\b\b\b\b\b                                 \b\b\b\b\b\b\b\b\b\b\b\b\b\b\b\b\b\b\b\b\b\b\b\b\b\b\b\b\b\b\b\b\b 80% 85 - bin/antsApplyTransforms\b\b\b\b\b\b\b\b\b\b\b\b\b\b\b\b\b\b\b\b\b\b\b\b\b\b\b\b\b\b\b\b\b                                 \b\b\b\b\b\b\b\b\b\b\b\b\b\b\b\b\b\b\b\b\b\b\b\b\b\b\b\b\b\b\b\b\b 80% 86 - bin/antsApplyTransformsToPoints\b\b\b\b\b\b\b\b\b\b\b\b\b\b\b\b\b\b\b\b\b\b\b\b\b\b\b\b\b\b\b\b\b\b\b\b\b\b\b\b\b                                         \b\b\b\b\b\b\b\b\b\b\b\b\b\b\b\b\b\b\b\b\b\b\b\b\b\b\b\b\b\b\b\b\b\b\b\b\b\b\b\b\b 81% 86 - bin/antsApplyTransformsToPoints\b\b\b\b\b\b\b\b\b\b\b\b\b\b\b\b\b\b\b\b\b\b\b\b\b\b\b\b\b\b\b\b\b\b\b\b\b\b\b\b\b                                         \b\b\b\b\b\b\b\b\b\b\b\b\b\b\b\b\b\b\b\b\b\b\b\b\b\b\b\b\b\b\b\b\b\b\b\b\b\b\b\b\b 81% 87 - bin/antsJointFusion\b\b\b\b\b\b\b\b\b\b\b\b\b\b\b\b\b\b\b\b\b\b\b\b\b\b\b\b\b                             \b\b\b\b\b\b\b\b\b\b\b\b\b\b\b\b\b\b\b\b\b\b\b\b\b\b\b\b\b 82% 87 - bin/antsJointFusion\b\b\b\b\b\b\b\b\b\b\b\b\b\b\b\b\b\b\b\b\b\b\b\b\b\b\b\b\b                             \b\b\b\b\b\b\b\b\b\b\b\b\b\b\b\b\b\b\b\b\b\b\b\b\b\b\b\b\b 83% 89 - bin/antsLandmarkBasedTransformInitializer\b\b\b\b\b\b\b\b\b\b\b\b\b\b\b\b\b\b\b\b\b\b\b\b\b\b\b\b\b\b\b\b\b\b\b\b\b\b\b\b\b\b\b\b\b\b\b\b\b\b\b                                                   \b\b\b\b\b\b\b\b\b\b\b\b\b\b\b\b\b\b\b\b\b\b\b\b\b\b\b\b\b\b\b\b\b\b\b\b\b\b\b\b\b\b\b\b\b\b\b\b\b\b\b 84% 89 - bin/antsLandmarkBasedTransformInitializer\b\b\b\b\b\b\b\b\b\b\b\b\b\b\b\b\b\b\b\b\b\b\b\b\b\b\b\b\b\b\b\b\b\b\b\b\b\b\b\b\b\b\b\b\b\b\b\b\b\b\b                                                   \b\b\b\b\b\b\b\b\b\b\b\b\b\b\b\b\b\b\b\b\b\b\b\b\b\b\b\b\b\b\b\b\b\b\b\b\b\b\b\b\b\b\b\b\b\b\b\b\b\b\b 84% 90 - bin/antsMotionCorr\b\b\b\b\b\b\b\b\b\b\b\b\b\b\b\b\b\b\b\b\b\b\b\b\b\b\b\b                            \b\b\b\b\b\b\b\b\b\b\b\b\b\b\b\b\b\b\b\b\b\b\b\b\b\b\b\b 85% 90 - bin/antsMotionCorr\b\b\b\b\b\b\b\b\b\b\b\b\b\b\b\b\b\b\b\b\b\b\b\b\b\b\b\b                            \b\b\b\b\b\b\b\b\b\b\b\b\b\b\b\b\b\b\b\b\b\b\b\b\b\b\b\b 85% 91 - bin/antsMotionCorrDiffusionDirection\b\b\b\b\b\b\b\b\b\b\b\b\b\b\b\b\b\b\b\b\b\b\b\b\b\b\b\b\b\b\b\b\b\b\b\b\b\b\b\b\b\b\b\b\b\b                                              \b\b\b\b\b\b\b\b\b\b\b\b\b\b\b\b\b\b\b\b\b\b\b\b\b\b\b\b\b\b\b\b\b\b\b\b\b\b\b\b\b\b\b\b\b\b 86% 91 - bin/antsMotionCorrDiffusionDirection\b\b\b\b\b\b\b\b\b\b\b\b\b\b\b\b\b\b\b\b\b\b\b\b\b\b\b\b\b\b\b\b\b\b\b\b\b\b\b\b\b\b\b\b\b\b                                              \b\b\b\b\b\b\b\b\b\b\b\b\b\b\b\b\b\b\b\b\b\b\b\b\b\b\b\b\b\b\b\b\b\b\b\b\b\b\b\b\b\b\b\b\b\b 87% 91 - bin/antsMotionCorrDiffusionDirection\b\b\b\b\b\b\b\b\b\b\b\b\b\b\b\b\b\b\b\b\b\b\b\b\b\b\b\b\b\b\b\b\b\b\b\b\b\b\b\b\b\b\b\b\b\b                                              \b\b\b\b\b\b\b\b\b\b\b\b\b\b\b\b\b\b\b\b\b\b\b\b\b\b\b\b\b\b\b\b\b\b\b\b\b\b\b\b\b\b\b\b\b\b 87% 92 - bin/antsMotionCorrStats\b\b\b\b\b\b\b\b\b\b\b\b\b\b\b\b\b\b\b\b\b\b\b\b\b\b\b\b\b\b\b\b\b                                 \b\b\b\b\b\b\b\b\b\b\b\b\b\b\b\b\b\b\b\b\b\b\b\b\b\b\b\b\b\b\b\b\b 88% 92 - bin/antsMotionCorrStats\b\b\b\b\b\b\b\b\b\b\b\b\b\b\b\b\b\b\b\b\b\b\b\b\b\b\b\b\b\b\b\b\b                                 \b\b\b\b\b\b\b\b\b\b\b\b\b\b\b\b\b\b\b\b\b\b\b\b\b\b\b\b\b\b\b\b\b 88% 93 - bin/antsRegistration\b\b\b\b\b\b\b\b\b\b\b\b\b\b\b\b\b\b\b\b\b\b\b\b\b\b\b\b\b\b                              \b\b\b\b\b\b\b\b\b\b\b\b\b\b\b\b\b\b\b\b\b\b\b\b\b\b\b\b\b\b 89% 93 - bin/antsRegistration\b\b\b\b\b\b\b\b\b\b\b\b\b\b\b\b\b\b\b\b\b\b\b\b\b\b\b\b\b\b                              \b\b\b\b\b\b\b\b\b\b\b\b\b\b\b\b\b\b\b\b\b\b\b\b\b\b\b\b\b\b 90% 93 - bin/antsRegistration\b\b\b\b\b\b\b\b\b\b\b\b\b\b\b\b\b\b\b\b\b\b\b\b\b\b\b\b\b\b                              \b\b\b\b\b\b\b\b\b\b\b\b\b\b\b\b\b\b\b\b\b\b\b\b\b\b\b\b\b\b 91% 93 - bin/antsRegistration\b\b\b\b\b\b\b\b\b\b\b\b\b\b\b\b\b\b\b\b\b\b\b\b\b\b\b\b\b\b                              \b\b\b\b\b\b\b\b\b\b\b\b\b\b\b\b\b\b\b\b\b\b\b\b\b\b\b\b\b\b 91% 94 - bin/antsSliceRegularizedRegistration\b\b\b\b\b\b\b\b\b\b\b\b\b\b\b\b\b\b\b\b\b\b\b\b\b\b\b\b\b\b\b\b\b\b\b\b\b\b\b\b\b\b\b\b\b\b                                              \b\b\b\b\b\b\b\b\b\b\b\b\b\b\b\b\b\b\b\b\b\b\b\b\b\b\b\b\b\b\b\b\b\b\b\b\b\b\b\b\b\b\b\b\b\b 92% 94 - bin/antsSliceRegularizedRegistration\b\b\b\b\b\b\b\b\b\b\b\b\b\b\b\b\b\b\b\b\b\b\b\b\b\b\b\b\b\b\b\b\b\b\b\b\b\b\b\b\b\b\b\b\b\b                                              \b\b\b\b\b\b\b\b\b\b\b\b\b\b\b\b\b\b\b\b\b\b\b\b\b\b\b\b\b\b\b\b\b\b\b\b\b\b\b\b\b\b\b\b\b\b 92% 95 - bin/antsTransformInfo\b\b\b\b\b\b\b\b\b\b\b\b\b\b\b\b\b\b\b\b\b\b\b\b\b\b\b\b\b\b\b                               \b\b\b\b\b\b\b\b\b\b\b\b\b\b\b\b\b\b\b\b\b\b\b\b\b\b\b\b\b\b\b 93% 96 - bin/antsUtilitiesTesting\b\b\b\b\b\b\b\b\b\b\b\b\b\b\b\b\b\b\b\b\b\b\b\b\b\b\b\b\b\b\b\b\b\b                                  \b\b\b\b\b\b\b\b\b\b\b\b\b\b\b\b\b\b\b\b\b\b\b\b\b\b\b\b\b\b\b\b\b\b 94% 96 - bin/antsUtilitiesTesting\b\b\b\b\b\b\b\b\b\b\b\b\b\b\b\b\b\b\b\b\b\b\b\b\b\b\b\b\b\b\b\b\b\b                                  \b\b\b\b\b\b\b\b\b\b\b\b\b\b\b\b\b\b\b\b\b\b\b\b\b\b\b\b\b\b\b\b\b\b 94% 97 - bin/compareTwoTransforms\b\b\b\b\b\b\b\b\b\b\b\b\b\b\b\b\b\b\b\b\b\b\b\b\b\b\b\b\b\b\b\b\b\b                                  \b\b\b\b\b\b\b\b\b\b\b\b\b\b\b\b\b\b\b\b\b\b\b\b\b\b\b\b\b\b\b\b\b\b 95% 97 - bin/compareTwoTransforms\b\b\b\b\b\b\b\b\b\b\b\b\b\b\b\b\b\b\b\b\b\b\b\b\b\b\b\b\b\b\b\b\b\b                                  \b\b\b\b\b\b\b\b\b\b\b\b\b\b\b\b\b\b\b\b\b\b\b\b\b\b\b\b\b\b\b\b\b\b 95% 98 - bin/iMath\b\b\b\b\b\b\b\b\b\b\b\b\b\b\b\b\b\b\b                   \b\b\b\b\b\b\b\b\b\b\b\b\b\b\b\b\b\b\b 96% 98 - bin/iMath\b\b\b\b\b\b\b\b\b\b\b\b\b\b\b\b\b\b\b                   \b\b\b\b\b\b\b\b\b\b\b\b\b\b\b\b\b\b\b 96% 99 - bin/itkTestDriver\b\b\b\b\b\b\b\b\b\b\b\b\b\b\b\b\b\b\b\b\b\b\b\b\b\b\b                           \b\b\b\b\b\b\b\b\b\b\b\b\b\b\b\b\b\b\b\b\b\b\b\b\b\b\b 97% 100 - bin/sccan\b\b\b\b\b\b\b\b\b\b\b\b\b\b\b\b\b\b\b\b                    \b\b\b\b\b\b\b\b\b\b\b\b\b\b\b\b\b\b\b\b 98% 100 - bin/sccan\b\b\b\b\b\b\b\b\b\b\b\b\b\b\b\b\b\b\b\b                    \b\b\b\b\b\b\b\b\b\b\b\b\b\b\b\b\b\b\b\b 98% 101 - bin/simpleSynRegistration\b\b\b\b\b\b\b\b\b\b\b\b\b\b\b\b\b\b\b\b\b\b\b\b\b\b\b\b\b\b\b\b\b\b\b\b                                    \b\b\b\b\b\b\b\b\b\b\b\b\b\b\b\b\b\b\b\b\b\b\b\b\b\b\b\b\b\b\b\b\b\b\b\b 99% 101 - bin/simpleSynRegistration\b\b\b\b\b\b\b\b\b\b\b\b\b\b\b\b\b\b\b\b\b\b\b\b\b\b\b\b\b\b\b\b\b\b\b\b                                    \b\b\b\b\b\b\b\b\b\b\b\b\b\b\b\b\b\b\b\b\b\b\b\b\b\b\b\b\b\b\b\b\b\b\b\bEverything is Ok\n",
            "\n",
            "Folders: 1\n",
            "Files: 101\n",
            "Size:       1961813896\n",
            "Compressed: 315597527\n"
          ],
          "name": "stdout"
        }
      ]
    },
    {
      "metadata": {
        "id": "a30jdTA78iRZ",
        "colab_type": "text"
      },
      "cell_type": "markdown",
      "source": [
        "Workaround for a bug in ANTs\n"
      ]
    },
    {
      "metadata": {
        "id": "wr2XbMMb8i2o",
        "colab_type": "code",
        "colab": {}
      },
      "cell_type": "code",
      "source": [
        "!ln -s '/gdrive/My Drive/' drive"
      ],
      "execution_count": 0,
      "outputs": []
    },
    {
      "metadata": {
        "id": "6EEEEjx16Yup",
        "colab_type": "text"
      },
      "cell_type": "markdown",
      "source": [
        "# Imports\n",
        "Import necessary packages"
      ]
    },
    {
      "metadata": {
        "id": "cmIPk6AM6bHm",
        "colab_type": "code",
        "colab": {}
      },
      "cell_type": "code",
      "source": [
        "import SimpleITK as sitk\n",
        "import os\n",
        "from pathlib import Path\n",
        "from nipype.interfaces.ants import N4BiasFieldCorrection\n",
        "import glob\n",
        "import numpy as np\n",
        "import shutil\n",
        "import math\n",
        "import concurrent.futures as executor\n",
        "# import matplotlib.pyplot as plt\n",
        "# import deepbrain"
      ],
      "execution_count": 0,
      "outputs": []
    },
    {
      "metadata": {
        "id": "GOmsG6Gym8TH",
        "colab_type": "text"
      },
      "cell_type": "markdown",
      "source": [
        "# Utils\n",
        "A few functions."
      ]
    },
    {
      "metadata": {
        "id": "NRjFLhPxTOIs",
        "colab_type": "text"
      },
      "cell_type": "markdown",
      "source": [
        "## Helper functions for gathering all the examples in the dataset"
      ]
    },
    {
      "metadata": {
        "id": "H8nENsjh84G0",
        "colab_type": "code",
        "colab": {}
      },
      "cell_type": "code",
      "source": [
        "def getImagePathsDict(train=True):\n",
        "    \"\"\"\n",
        "    getImagePathsDict(train=True)\n",
        "    -----------------------------\n",
        "    Returns a dictionary mapping all the scans with a dictionary \n",
        "    mapping all its modalities (t1, t2, t1c, flair) to their paths.\n",
        "    \n",
        "    Parameters\n",
        "    ----------\n",
        "      `train`:\n",
        "          Boolean, defaults to True. \n",
        "          If train is set to True, uses the training directory. Otherwise \n",
        "          uses the testing directory. When train is True, an additional key\n",
        "          \"ot\" pointing to the ground truth image is also provided.\n",
        "\n",
        "    Remarks\n",
        "    -------\n",
        "      Made for BRATS2015 dataset.\n",
        "      The following global variables need to be defined.\n",
        "        `data_path`: Path to the BRATS2015 data folder.\n",
        "        `save_path`: Path to the directory to store corrected images.\n",
        "    \"\"\"\n",
        "\n",
        "    # Check for necessary global variables\n",
        "    assert 'data_path' in globals(), \"Please define a global variable data_path\"\\\n",
        "  \"with Path to the BRATS2015 data folder\"\n",
        "    assert 'save_path' in globals(), \"Please define a global variable save_path\"\\\n",
        "  \"with Path to the directory to store corrected images\"\n",
        "\n",
        "    # Define some necessary variables\n",
        "    if train:\n",
        "      data_path = os.path.join(data_path, 'training/')\n",
        "      folders = ['HGG', 'LGG']\n",
        "    else:\n",
        "      data_path = os.path.join(data_path, 'testing/')\n",
        "      folders = ['HGG_LGG']\n",
        "\n",
        "    # Collect all the images from the nested folders\n",
        "    image_folders = [\n",
        "        [\n",
        "            f'{folder}/{subfolder}',  # The path to the image folder\n",
        "            shutil.os.listdir(f'{data_path}/{folder}/{subfolder}')  # The images\n",
        "        ] \n",
        "        for folder in folders for subfolder in shutil.os.listdir(\n",
        "            f'{data_path}/{folder}'\n",
        "        )\n",
        "    ]\n",
        "\n",
        "    out = {}\n",
        "    for item in image_folders:\n",
        "      images = {}\n",
        "      images['t1'] = [s for s in item[1] if 'T1' in s][0]\n",
        "      images['t1c'] = [s for s in item[1] if 'T1c' in s][0]\n",
        "      images['t2'] = [s for s in item[1] if 'T2' in s][0]\n",
        "      images['flair'] = [s for s in item[1] if 'Flair' in s][0]\n",
        "      if train:\n",
        "        images['ot'] = [s for s in item[1] if 'OT' in s][0]\n",
        "\n",
        "      path = item[0]\n",
        "      out[path] = images\n",
        "\n",
        "    return out\n",
        "\n",
        "\n",
        "def getImagePathsList(train=True):\n",
        "    \"\"\"\n",
        "    getImagePathsList(train=True)\n",
        "\n",
        "    Parameters\n",
        "    ----------\n",
        "      `train`: \n",
        "          Boolean, defaults to True. \n",
        "          Returns a list containing paths to all the images in the dataset.\n",
        "          If train is set to True, uses the training directory, otherwise\n",
        "          uses the testing directory.\n",
        "\n",
        "    Remarks\n",
        "    -------\n",
        "      Made for BRATS2015 dataset.\n",
        "      The following global variables need to be defined.\n",
        "        `data_path`: Path to the BRATS2015 data folder.\n",
        "        `save_path`: Path to the directory to store corrected images.\n",
        "    \"\"\"\n",
        "\n",
        "    # Check for necessary global variables\n",
        "    assert 'data_path' in globals(), \"Please define a global variable data_path\"\\\n",
        "  \"with Path to the BRATS2015 data folder\"\n",
        "    assert 'save_path' in globals(), \"Please define a global variable save_path\"\\\n",
        "  \"with Path to the directory to store corrected images\"\n",
        "\n",
        "    cur_dir = os.path.realpath('.')  # Get current directory path\n",
        "    os.chdir(data_path)  # Change to the dataset directory\n",
        "\n",
        "    # Get all the .mha images\n",
        "    out = glob.glob('training/*/*/*.mha' if train else 'testing/*/*/*.mha')\n",
        "    os.chdir(cur_dir)  # Change back to the original directory path\n",
        "    return out"
      ],
      "execution_count": 0,
      "outputs": []
    },
    {
      "metadata": {
        "id": "Jwow_pLBT-nN",
        "colab_type": "text"
      },
      "cell_type": "markdown",
      "source": [
        "## N4 Bias Correction\n",
        "Uses ANTs' `N4BiasCorrection` implemented in `Nipype`. Also uses parallelization from Python's `concurrent` module to process multiple images at once by distributing them across available physical cores. Currently the fastest method available."
      ]
    },
    {
      "metadata": {
        "id": "DkGdkYSD2j4U",
        "colab_type": "code",
        "colab": {}
      },
      "cell_type": "code",
      "source": [
        "def N4BiasCorrectANTs(image_path, out=False):\n",
        "    \"\"\"\n",
        "    N4BiasCorrectANTs(image_path, out=False)\n",
        "    -----------------------------\n",
        "    Corrects an image located at `image_path` inside the directory defined by \n",
        "    `data_path`.\n",
        "    \n",
        "    Parameters\n",
        "    ----------\n",
        "      `image_path`: \n",
        "          String, required.\n",
        "          Path to the image to be corrected, starting with\n",
        "          `training/` or `testing/`. The parent directory is obtained\n",
        "          from the global variable `data_path`.\n",
        "      `out`:\n",
        "          Boolean, optional. Defaults to False. \n",
        "          If set to True, returns the path to the corrected image.\n",
        "\n",
        "    Remarks\n",
        "    -------\n",
        "      Made for BRATS2015 dataset.\n",
        "      The following global variables need to be defined.\n",
        "        `data_path`: Path to the BRATS2015 data folder.\n",
        "        `save_path`: Path to the directory to store corrected images.\n",
        "    \"\"\"\n",
        "\n",
        "    # Check for necessary global variables\n",
        "    assert 'data_path' in globals(), \"Please define a global variable data_path\"\\\n",
        "  \"with Path to the BRATS2015 data folder\"\n",
        "    assert 'save_path' in globals(), \"Please define a global variable save_path\"\\\n",
        "  \"with Path to the directory to store corrected images\"\n",
        "\n",
        "    # Skip a file if already done.\n",
        "    if os.path.isfile(os.path.join(save_path, image_path)):\n",
        "      print(f'\\r skipped {i}', end='')\n",
        "      return\n",
        "    else:\n",
        "      os.makedirs(  # Create necessary folders\n",
        "            os.path.dirname(os.path.join(save_path, image_path)),\n",
        "            exist_ok=True\n",
        "        )\n",
        "    \n",
        "    # Correct the image using ANTs' N4BiasCorrection\n",
        "    correct = N4BiasFieldCorrection()\n",
        "    correct.inputs.input_image = os.path.join(data_path, image_path)\n",
        "    correct.inputs.output_image = os.path.join(save_path, image_path)\n",
        "    done = correct.run()\n",
        "    \n",
        "    if out:\n",
        "      return done.outputs.output_image\n",
        "\n",
        "\n",
        "def correctImagesANTs(train=True):\n",
        "    \"\"\"\n",
        "    correctImagesANTs(image_path)\n",
        "    ----------------------------\n",
        "    Corrects all the images from `data_path` and saves them in the\n",
        "    `save_path`, preserving the directory structure. \n",
        "    \n",
        "    Parameters\n",
        "    ----------\n",
        "      `train`: \n",
        "          Boolean, defaults to True. \n",
        "          If train is set to True, uses the training directory, otherwise\n",
        "          uses the testing directory.\n",
        "    Remarks\n",
        "    -------\n",
        "      Made for BRATS2015 dataset.\n",
        "      The following global variables need to be defined.\n",
        "        `data_path`: Path to the BRATS2015 data folder.\n",
        "        `save_path`: Path to the directory to store corrected images.\n",
        "    \"\"\"\n",
        "    \n",
        "    # Check for necessary global variables\n",
        "    assert 'data_path' in globals(), \"Please define a global variable data_path\"\\\n",
        "  \"with Path to the BRATS2015 data folder\"\n",
        "    assert 'save_path' in globals(), \"Please define a global variable save_path\"\\\n",
        "  \"with Path to the directory to store corrected images\"\n",
        "\n",
        "    # Get paths for all the images of all the types in the dataset\n",
        "    images = getImagePathsList(train=train)\n",
        "\n",
        "    # Process the images in parallel, across the available cores\n",
        "    with executor.ProcessPoolExecutor() as ex:\n",
        "      ex.map(N4BiasCorrectANTs, images)"
      ],
      "execution_count": 0,
      "outputs": []
    },
    {
      "metadata": {
        "id": "QWhLeUxC5AxU",
        "colab_type": "text"
      },
      "cell_type": "markdown",
      "source": [
        "# Preprocessing"
      ]
    },
    {
      "metadata": {
        "id": "_kO9jTtf5DIR",
        "colab_type": "text"
      },
      "cell_type": "markdown",
      "source": [
        "## Bias Field Correction\n",
        "&lt;DONE>"
      ]
    },
    {
      "metadata": {
        "id": "8YYkRj98Yat5",
        "colab_type": "code",
        "colab": {},
        "cellView": "form"
      },
      "cell_type": "code",
      "source": [
        "#@title Set Paths\n",
        "\n",
        "#@markdown Fill in the following fields:\n",
        "#@markdown Data Path: Path to the BRATS2015 directory\n",
        "data_path=\"/content/BRATS2015/\"  #@param {type: \"string\"}\n",
        "\n",
        "#@markdown Save Path: Path to the directory to store corrected images. Note: Avoid spaces in the path\n",
        "save_path='/content/drive/BRATS2015_corr_final/'  #@param {type: \"string\"}\n"
      ],
      "execution_count": 0,
      "outputs": []
    },
    {
      "metadata": {
        "id": "Xoia3ZngmBI9",
        "colab_type": "code",
        "cellView": "both",
        "colab": {}
      },
      "cell_type": "code",
      "source": [
        "#@title This needs to be performed only once. Done already?\n",
        "#@markdown Tick the relevant boxes if performed already.\n",
        "\n",
        "done_for_train = False #@param {type:\"boolean\"}\n",
        "done_for_test = False #@param {type:\"boolean\"}\n",
        "\n",
        "i = -1  # Reset progress bar\n",
        "\n",
        "if not done_for_train:\n",
        "  correctImagesANTs(train=True)  # For train\n",
        "  i = -1  # Reset progress bar\n",
        "\n",
        "if not done_for_test:\n",
        "  correctImagesANTs(train=False)  # For test\n",
        "  i = -1  # Reset progress bar"
      ],
      "execution_count": 0,
      "outputs": []
    },
    {
      "metadata": {
        "id": "lQ_wA4e9nusm",
        "colab_type": "code",
        "colab": {}
      },
      "cell_type": "code",
      "source": [
        ""
      ],
      "execution_count": 0,
      "outputs": []
    },
    {
      "metadata": {
        "id": "lxz10nVFl4VU",
        "colab_type": "text"
      },
      "cell_type": "markdown",
      "source": [
        "## Skull Stripping\n",
        "&lt;TODO>"
      ]
    },
    {
      "metadata": {
        "id": "e6iv-8JIl6na",
        "colab_type": "code",
        "colab": {}
      },
      "cell_type": "code",
      "source": [
        ""
      ],
      "execution_count": 0,
      "outputs": []
    },
    {
      "metadata": {
        "id": "y2OHaNJQl6iY",
        "colab_type": "code",
        "colab": {}
      },
      "cell_type": "code",
      "source": [
        ""
      ],
      "execution_count": 0,
      "outputs": []
    },
    {
      "metadata": {
        "id": "ltkxj9zyl69m",
        "colab_type": "text"
      },
      "cell_type": "markdown",
      "source": [
        "## Normalization\n",
        "&lt;TODO>"
      ]
    },
    {
      "metadata": {
        "id": "GTMY4xHLl_zR",
        "colab_type": "code",
        "colab": {}
      },
      "cell_type": "code",
      "source": [
        ""
      ],
      "execution_count": 0,
      "outputs": []
    },
    {
      "metadata": {
        "id": "YMWE_TvBl_wP",
        "colab_type": "code",
        "colab": {}
      },
      "cell_type": "code",
      "source": [
        ""
      ],
      "execution_count": 0,
      "outputs": []
    },
    {
      "metadata": {
        "id": "bMhXPaV4BQLq",
        "colab_type": "text"
      },
      "cell_type": "markdown",
      "source": [
        "# Scratchpad"
      ]
    },
    {
      "metadata": {
        "id": "nHBOOR8wbHfn",
        "colab_type": "code",
        "colab": {}
      },
      "cell_type": "code",
      "source": [
        ""
      ],
      "execution_count": 0,
      "outputs": []
    },
    {
      "metadata": {
        "id": "jXNMHNi3UKIe",
        "colab_type": "text"
      },
      "cell_type": "markdown",
      "source": [
        "# Legacy Code\n",
        "\n",
        "Old, slow, no-longer-to-be-used code."
      ]
    },
    {
      "metadata": {
        "id": "n-iWd0VtnBOb",
        "colab_type": "text"
      },
      "cell_type": "markdown",
      "source": [
        "## N4 Bias Correction"
      ]
    },
    {
      "metadata": {
        "id": "-QTO4bMDeHAd",
        "colab_type": "text"
      },
      "cell_type": "markdown",
      "source": [
        "### SITK, Without Parallelization\n",
        "(Slowest, don't use.)"
      ]
    },
    {
      "metadata": {
        "id": "WK4SlekMm9m9",
        "colab_type": "code",
        "colab": {}
      },
      "cell_type": "code",
      "source": [
        "# def N4BiasCorrect(img):\n",
        "#     maskImage = sitk.OtsuThreshold(img, 0, 1, 200)  # From SITK Docs\n",
        "#     img = sitk.Cast(img, sitk.sitkFloat32)\n",
        "#     corrector = sitk.N4BiasFieldCorrectionImageFilter()\n",
        "#     output = corrector.Execute(img, maskImage)\n",
        "#     return output\n",
        "\n",
        "\n",
        "# def correctImages(train=True):\n",
        "#   if train:\n",
        "#     data_path=\"BRATS2015/training\"\n",
        "#     folders=['HGG', 'LGG']\n",
        "#     save_path=\"BRATS2015_corrected/training\"\n",
        "#   else:\n",
        "#     data_path=\"BRATS2015/testing\"\n",
        "#     folders=['HGG_LGG']\n",
        "#     save_path=\"BRATS2015_corrected/testing\"\n",
        "\n",
        "#   # Get paths for all the images of all the types in the dataset\n",
        "#   images = getImagePaths(train=train)\n",
        "\n",
        "# #   corrected = \n",
        "#   # Just some variables for progress bar\n",
        "#   m = len(images)\n",
        "#   step = 25 / m\n",
        "#   i = -1\n",
        "#   for path, mris in images.items():\n",
        "#     i += 1\n",
        "\n",
        "#     t1 = N4BiasCorrect(sitk.ReadImage(f'{data_path}/{path}/{mris[\"t1\"]}'))\n",
        "#     t1c = N4BiasCorrect(sitk.ReadImage(f'{data_path}/{path}/{mris[\"t1c\"]}'))\n",
        "#     t2 = N4BiasCorrect(sitk.ReadImage(f'{data_path}/{path}/{mris[\"t2\"]}'))\n",
        "#     flair = N4BiasCorrect(sitk.ReadImage(f'{data_path}/{path}/{mris[\"flair\"]}'))\n",
        "\n",
        "#     if train:\n",
        "#       ot = N4BiasCorrect(sitk.ReadImage(f'{data_path}/{path}/{mris[\"ot\"]}'))\n",
        "#       sequences = ['t1', 't1c', 't2', 'flair', 'ot']\n",
        "#     else:\n",
        "#       sequences = ['t1', 't1c', 't2', 'flair']\n",
        "\n",
        "#     shutil.os.makedirs(f'{save_path}/{path}')\n",
        "\n",
        "#     for sequence in sequences:\n",
        "#       sitk.WriteImage(eval(sequence), f\"{save_path}/{path}/{mris[sequence]}\")\n",
        "\n",
        "#     print('\\r' + f'Progress: '\n",
        "#             f\"[{'=' * int((i+1) * step) + ' ' * (24 - int((i+1) * step))}]\"\n",
        "#             f\"({math.ceil((i+1) * 100 / m)} %)\",\n",
        "#             end='')\n"
      ],
      "execution_count": 0,
      "outputs": []
    },
    {
      "metadata": {
        "id": "wx0Xhm5icvJ5",
        "colab_type": "text"
      },
      "cell_type": "markdown",
      "source": [
        "### SITK, With Parallelization\n",
        "(Faster than earlier, but still quite slow. Don't use.)"
      ]
    },
    {
      "metadata": {
        "colab_type": "code",
        "id": "JYjviJKSsVPN",
        "colab": {}
      },
      "cell_type": "code",
      "source": [
        "# # For progress bar\n",
        "# i = -1\n",
        "# m = None\n",
        "# step = None\n",
        "\n",
        "# def N4BiasCorrectParallel(image_path):\n",
        "#     global i, m, step\n",
        "#     i+= 1 \n",
        "    \n",
        "# #     print('CHK 1')  #DEBUG\n",
        "    \n",
        "#     # Skip an image if it is already corrected\n",
        "#     # or is being worked upon    \n",
        "#     if os.path.isfile(os.path.join(save_path, image_path)) \\\n",
        "#         or os.path.isfile(os.path.join(save_path, image_path + '.working')):\n",
        "#       print(f'\\r skipped {i}', end='')\n",
        "#       return\n",
        "#     else:  # Reserve the filename.\n",
        "#       try:  # If folder doesn't exist\n",
        "#         os.makedirs(  # Create necessary folders\n",
        "#             os.path.dirname(os.path.join(save_path, image_path))\n",
        "#         )\n",
        "#       except FileExistsError:  # If the folder exists\n",
        "#         pass\n",
        "      \n",
        "#       # Let others know this file is being worked upon\n",
        "#       Path(os.path.join(save_path, image_path + '.working')).touch()\n",
        "      \n",
        "# #     print('CHK 2')  #DEBUG\n",
        "#     img = sitk.ReadImage(os.path.join(data_path, image_path), sitk.sitkFloat64)\n",
        "#     output = sitk.N4BiasFieldCorrection(img, img > 0)\n",
        "    \n",
        "#     os.remove(os.path.join(save_path, image_path + '.working'))  # Remove the empty file\n",
        "    \n",
        "#     sitk.WriteImage(  # Save output image\n",
        "#         output, \n",
        "#         os.path.join(save_path, image_path)\n",
        "#     )\n",
        "    \n",
        "#     # print('CHK 5')  #DEBUG\n",
        "    \n",
        "#     # Print Progress\n",
        "#     print('\\r' + f'Progress: '\n",
        "#         f\"[{'=' * int((i+1) * step) + ' ' * (24 - int((i+1) * step))}]\"\n",
        "#         f\"({math.ceil((i+1) * 100 / m)} %)\",\n",
        "#         end='')   \n",
        "\n",
        "\n",
        "# def correctImagesParallel(train=True):\n",
        "  \n",
        "#   global m, step  # For progress bar\n",
        "#   # Get paths for all the images of all the types in the dataset\n",
        "#   images = getImagePathsList(train=train)\n",
        "  \n",
        "#   # Just some variables for progress bar\n",
        "#   m = len(images)\n",
        "#   step = 25 / m\n",
        "\n",
        "#   with executor.ProcessPoolExecutor() as ex:\n",
        "#     ex.map(N4BiasCorrectParallel, images)"
      ],
      "execution_count": 0,
      "outputs": []
    },
    {
      "metadata": {
        "id": "DwtEbpvHT9Np",
        "colab_type": "code",
        "colab": {}
      },
      "cell_type": "code",
      "source": [
        ""
      ],
      "execution_count": 0,
      "outputs": []
    }
  ]
}
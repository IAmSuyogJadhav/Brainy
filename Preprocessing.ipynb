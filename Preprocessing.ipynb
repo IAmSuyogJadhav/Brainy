{
  "nbformat": 4,
  "nbformat_minor": 0,
  "metadata": {
    "colab": {
      "name": "Preprocessing.ipynb",
      "version": "0.3.2",
      "provenance": [],
      "collapsed_sections": [
        "YmlNdmLwZ8dB",
        "X_eIr7A8aX-M",
        "bMhXPaV4BQLq",
        "jXNMHNi3UKIe",
        "-QTO4bMDeHAd",
        "wx0Xhm5icvJ5"
      ],
      "include_colab_link": true
    },
    "kernelspec": {
      "name": "python3",
      "display_name": "Python 3"
    },
    "accelerator": "GPU"
  },
  "cells": [
    {
      "cell_type": "markdown",
      "metadata": {
        "id": "view-in-github",
        "colab_type": "text"
      },
      "source": [
        "<a href=\"https://colab.research.google.com/github/IAmSuyogJadhav/Brainy/blob/master/Preprocessing.ipynb\" target=\"_parent\"><img src=\"https://colab.research.google.com/assets/colab-badge.svg\" alt=\"Open In Colab\"/></a>"
      ]
    },
    {
      "metadata": {
        "id": "Wko-xq3TEfzk",
        "colab_type": "text"
      },
      "cell_type": "markdown",
      "source": [
        "# Preprocessing for Brainy\n",
        "\n",
        "<center><img src=\"https://www.suyogjadhav.com/images/thumbs/brainy.png\" height=100 width=100></center>\n",
        "\n",
        "- &#9745; N4 Bias Correction\n",
        "- &#9744; Skull Stripping\n",
        "- &#9744; Normalization"
      ]
    },
    {
      "metadata": {
        "id": "YmlNdmLwZ8dB",
        "colab_type": "text"
      },
      "cell_type": "markdown",
      "source": [
        "# Colab Stuff\n",
        "Things that need to be done once per Google Colaboratory session."
      ]
    },
    {
      "metadata": {
        "id": "yZjK3L57Y-ry",
        "colab_type": "text"
      },
      "cell_type": "markdown",
      "source": [
        "Mount the drive"
      ]
    },
    {
      "metadata": {
        "id": "nLip3q2HZkGq",
        "colab_type": "code",
        "colab": {}
      },
      "cell_type": "code",
      "source": [
        "from google.colab import drive\n",
        "drive.mount('/gdrive')\n",
        "# !cd /gdrive/\"My Drive\" && ls"
      ],
      "execution_count": 0,
      "outputs": []
    },
    {
      "metadata": {
        "id": "uymYxofUY7nM",
        "colab_type": "text"
      },
      "cell_type": "markdown",
      "source": [
        "Extract the dataset files"
      ]
    },
    {
      "metadata": {
        "id": "bOFOn6mbZ-b0",
        "colab_type": "code",
        "colab": {}
      },
      "cell_type": "code",
      "source": [
        "import zipfile\n",
        "zfile = zipfile.ZipFile(\"/gdrive/My Drive/BRATS2015.zip\")\n",
        "zfile.extractall()"
      ],
      "execution_count": 0,
      "outputs": []
    },
    {
      "metadata": {
        "id": "EuZBgDXBY4VW",
        "colab_type": "text"
      },
      "cell_type": "markdown",
      "source": [
        "Install the required libraries"
      ]
    },
    {
      "metadata": {
        "id": "QLSRqpRvZ-aG",
        "colab_type": "code",
        "colab": {}
      },
      "cell_type": "code",
      "source": [
        "# !pip install deepbrain\n",
        "!pip install simpleitk\n",
        "!pip install nipype[all]"
      ],
      "execution_count": 0,
      "outputs": []
    },
    {
      "metadata": {
        "id": "uKkX-WZsYwSI",
        "colab_type": "text"
      },
      "cell_type": "markdown",
      "source": [
        "Install pre-built ANTs binaries"
      ]
    },
    {
      "metadata": {
        "id": "slsyG1cA10mX",
        "colab_type": "code",
        "colab": {}
      },
      "cell_type": "code",
      "source": [
        "!7z x '/gdrive/My Drive/ANTs-28-03-2019.7z'\n",
        "!cp bin/* /usr/local/bin"
      ],
      "execution_count": 0,
      "outputs": []
    },
    {
      "metadata": {
        "id": "a30jdTA78iRZ",
        "colab_type": "text"
      },
      "cell_type": "markdown",
      "source": [
        "Workaround for a bug in ANTs\n"
      ]
    },
    {
      "metadata": {
        "id": "wr2XbMMb8i2o",
        "colab_type": "code",
        "colab": {}
      },
      "cell_type": "code",
      "source": [
        "!ln -s '/gdrive/My Drive/' drive"
      ],
      "execution_count": 0,
      "outputs": []
    },
    {
      "metadata": {
        "id": "6EEEEjx16Yup",
        "colab_type": "text"
      },
      "cell_type": "markdown",
      "source": [
        "# Imports\n",
        "Import necessary packages"
      ]
    },
    {
      "metadata": {
        "id": "cmIPk6AM6bHm",
        "colab_type": "code",
        "colab": {}
      },
      "cell_type": "code",
      "source": [
        "import SimpleITK as sitk\n",
        "import os\n",
        "from pathlib import Path\n",
        "from nipype.interfaces.ants import N4BiasFieldCorrection\n",
        "import glob\n",
        "import numpy as np\n",
        "import shutil\n",
        "import math\n",
        "import concurrent.futures as executor\n",
        "# import matplotlib.pyplot as plt\n",
        "# import deepbrain"
      ],
      "execution_count": 0,
      "outputs": []
    },
    {
      "metadata": {
        "id": "GOmsG6Gym8TH",
        "colab_type": "text"
      },
      "cell_type": "markdown",
      "source": [
        "# Utils\n",
        "A few functions."
      ]
    },
    {
      "metadata": {
        "id": "NRjFLhPxTOIs",
        "colab_type": "text"
      },
      "cell_type": "markdown",
      "source": [
        "## Helper functions for gathering all the examples in the dataset"
      ]
    },
    {
      "metadata": {
        "id": "H8nENsjh84G0",
        "colab_type": "code",
        "colab": {}
      },
      "cell_type": "code",
      "source": [
        "def getImagePathsDict(train=True):\n",
        "    \"\"\"\n",
        "    getImagePathsDict(train=True)\n",
        "    -----------------------------\n",
        "    Returns a dictionary mapping all the scans with a dictionary \n",
        "    mapping all its modalities (t1, t2, t1c, flair) to their paths.\n",
        "    \n",
        "    Parameters\n",
        "    ----------\n",
        "      `train`:\n",
        "          Boolean, defaults to True. \n",
        "          If train is set to True, uses the training directory. Otherwise \n",
        "          uses the testing directory. When train is True, an additional key\n",
        "          \"ot\" pointing to the ground truth image is also provided.\n",
        "\n",
        "    Remarks\n",
        "    -------\n",
        "      Made for BRATS2015 dataset.\n",
        "      The following global variables need to be defined.\n",
        "        `data_path`: Path to the BRATS2015 data folder.\n",
        "        `save_path`: Path to the directory to store corrected images.\n",
        "    \"\"\"\n",
        "\n",
        "    # Check for necessary global variables\n",
        "    assert 'data_path' in globals(), \"Please define a global variable data_path\"\\\n",
        "  \"with Path to the BRATS2015 data folder\"\n",
        "    assert 'save_path' in globals(), \"Please define a global variable save_path\"\\\n",
        "  \"with Path to the directory to store corrected images\"\n",
        "\n",
        "    # Define some necessary variables\n",
        "    if train:\n",
        "      data_path = os.path.join(data_path, 'training/')\n",
        "      folders = ['HGG', 'LGG']\n",
        "    else:\n",
        "      data_path = os.path.join(data_path, 'testing/')\n",
        "      folders = ['HGG_LGG']\n",
        "\n",
        "    # Collect all the images from the nested folders\n",
        "    image_folders = [\n",
        "        [\n",
        "            f'{folder}/{subfolder}',  # The path to the image folder\n",
        "            shutil.os.listdir(f'{data_path}/{folder}/{subfolder}')  # The images\n",
        "        ] \n",
        "        for folder in folders for subfolder in shutil.os.listdir(\n",
        "            f'{data_path}/{folder}'\n",
        "        )\n",
        "    ]\n",
        "\n",
        "    out = {}\n",
        "    for item in image_folders:\n",
        "      images = {}\n",
        "      images['t1'] = [s for s in item[1] if 'T1' in s][0]\n",
        "      images['t1c'] = [s for s in item[1] if 'T1c' in s][0]\n",
        "      images['t2'] = [s for s in item[1] if 'T2' in s][0]\n",
        "      images['flair'] = [s for s in item[1] if 'Flair' in s][0]\n",
        "      if train:\n",
        "        images['ot'] = [s for s in item[1] if 'OT' in s][0]\n",
        "\n",
        "      path = item[0]\n",
        "      out[path] = images\n",
        "\n",
        "    return out\n",
        "\n",
        "\n",
        "def getImagePathsList(train=True):\n",
        "    \"\"\"\n",
        "    getImagePathsList(train=True)\n",
        "\n",
        "    Parameters\n",
        "    ----------\n",
        "      `train`: \n",
        "          Boolean, defaults to True. \n",
        "          Returns a list containing paths to all the images in the dataset.\n",
        "          If train is set to True, uses the training directory, otherwise\n",
        "          uses the testing directory.\n",
        "\n",
        "    Remarks\n",
        "    -------\n",
        "      Made for BRATS2015 dataset.\n",
        "      The following global variables need to be defined.\n",
        "        `data_path`: Path to the BRATS2015 data folder.\n",
        "        `save_path`: Path to the directory to store corrected images.\n",
        "    \"\"\"\n",
        "\n",
        "    # Check for necessary global variables\n",
        "    assert 'data_path' in globals(), \"Please define a global variable data_path\"\\\n",
        "  \"with Path to the BRATS2015 data folder\"\n",
        "    assert 'save_path' in globals(), \"Please define a global variable save_path\"\\\n",
        "  \"with Path to the directory to store corrected images\"\n",
        "\n",
        "    cur_dir = os.path.realpath('.')  # Get current directory path\n",
        "    os.chdir(data_path)  # Change to the dataset directory\n",
        "\n",
        "    # Get all the .mha images\n",
        "    out = glob.glob('training/*/*/*.mha' if train else 'testing/*/*/*.mha')\n",
        "    os.chdir(cur_dir)  # Change back to the original directory path\n",
        "    return out"
      ],
      "execution_count": 0,
      "outputs": []
    },
    {
      "metadata": {
        "id": "Jwow_pLBT-nN",
        "colab_type": "text"
      },
      "cell_type": "markdown",
      "source": [
        "## N4 Bias Correction\n",
        "Uses ANTs' `N4BiasCorrection` implemented in `Nipype`. Also uses parallelization from Python's `concurrent` module to process multiple images at once by distributing them across available physical cores. Currently the fastest method available."
      ]
    },
    {
      "metadata": {
        "id": "DkGdkYSD2j4U",
        "colab_type": "code",
        "colab": {}
      },
      "cell_type": "code",
      "source": [
        "def N4BiasCorrectANTs(image_path, out=False):\n",
        "    \"\"\"\n",
        "    N4BiasCorrectANTs(image_path, out=False)\n",
        "    -----------------------------\n",
        "    Corrects an image located at `image_path` inside the directory defined by \n",
        "    `data_path`.\n",
        "    \n",
        "    Parameters\n",
        "    ----------\n",
        "      `image_path`: \n",
        "          String, required.\n",
        "          Path to the image to be corrected, starting with\n",
        "          `training/` or `testing/`. The parent directory is obtained\n",
        "          from the global variable `data_path`.\n",
        "      `out`:\n",
        "          Boolean, optional. Defaults to False. \n",
        "          If set to True, returns the path to the corrected image.\n",
        "\n",
        "    Remarks\n",
        "    -------\n",
        "      Made for BRATS2015 dataset.\n",
        "      The following global variables need to be defined.\n",
        "        `data_path`: Path to the BRATS2015 data folder.\n",
        "        `save_path`: Path to the directory to store corrected images.\n",
        "    \"\"\"\n",
        "\n",
        "    # Check for necessary global variables\n",
        "    assert 'data_path' in globals(), \"Please define a global variable data_path\"\\\n",
        "  \"with Path to the BRATS2015 data folder\"\n",
        "    assert 'save_path' in globals(), \"Please define a global variable save_path\"\\\n",
        "  \"with Path to the directory to store corrected images\"\n",
        "\n",
        "    # Skip a file if already done.\n",
        "    if os.path.isfile(os.path.join(save_path, image_path)):\n",
        "      print(f'\\r skipped {i}', end='')\n",
        "      return\n",
        "    else:\n",
        "      os.makedirs(  # Create necessary folders\n",
        "            os.path.dirname(os.path.join(save_path, image_path)),\n",
        "            exist_ok=True\n",
        "        )\n",
        "    \n",
        "    # Correct the image using ANTs' N4BiasCorrection\n",
        "    correct = N4BiasFieldCorrection()\n",
        "    correct.inputs.input_image = os.path.join(data_path, image_path)\n",
        "    correct.inputs.output_image = os.path.join(save_path, image_path)\n",
        "    done = correct.run()\n",
        "    \n",
        "    if out:\n",
        "      return done.outputs.output_image\n",
        "\n",
        "\n",
        "def correctImagesANTs(train=True):\n",
        "    \"\"\"\n",
        "    correctImagesANTs(image_path)\n",
        "    ----------------------------\n",
        "    Corrects all the images from `data_path` and saves them in the\n",
        "    `save_path`, preserving the directory structure. \n",
        "    \n",
        "    Parameters\n",
        "    ----------\n",
        "      `train`: \n",
        "          Boolean, defaults to True. \n",
        "          If train is set to True, uses the training directory, otherwise\n",
        "          uses the testing directory.\n",
        "    Remarks\n",
        "    -------\n",
        "      Made for BRATS2015 dataset.\n",
        "      The following global variables need to be defined.\n",
        "        `data_path`: Path to the BRATS2015 data folder.\n",
        "        `save_path`: Path to the directory to store corrected images.\n",
        "    \"\"\"\n",
        "    \n",
        "    # Check for necessary global variables\n",
        "    assert 'data_path' in globals(), \"Please define a global variable data_path\"\\\n",
        "  \"with Path to the BRATS2015 data folder\"\n",
        "    assert 'save_path' in globals(), \"Please define a global variable save_path\"\\\n",
        "  \"with Path to the directory to store corrected images\"\n",
        "\n",
        "    # Get paths for all the images of all the types in the dataset\n",
        "    images = getImagePathsList(train=train)\n",
        "\n",
        "    # Process the images in parallel, across the available cores\n",
        "    with executor.ProcessPoolExecutor() as ex:\n",
        "      ex.map(N4BiasCorrectANTs, images)"
      ],
      "execution_count": 0,
      "outputs": []
    },
    {
      "metadata": {
        "id": "QWhLeUxC5AxU",
        "colab_type": "text"
      },
      "cell_type": "markdown",
      "source": [
        "# Preprocessing"
      ]
    },
    {
      "metadata": {
        "id": "_kO9jTtf5DIR",
        "colab_type": "text"
      },
      "cell_type": "markdown",
      "source": [
        "## Bias Field Correction\n",
        "&lt;DONE>"
      ]
    },
    {
      "metadata": {
        "id": "8YYkRj98Yat5",
        "colab_type": "code",
        "colab": {},
        "cellView": "form"
      },
      "cell_type": "code",
      "source": [
        "#@title Set Paths\n",
        "\n",
        "#@markdown Fill in the following fields:\n",
        "#@markdown Data Path: Path to the BRATS2015 directory\n",
        "data_path=\"/content/BRATS2015/\"  #@param {type: \"string\"}\n",
        "\n",
        "#@markdown Save Path: Path to the directory to store corrected images. Note: Avoid spaces in the path\n",
        "save_path='/content/drive/BRATS2015_corr_final/'  #@param {type: \"string\"}\n"
      ],
      "execution_count": 0,
      "outputs": []
    },
    {
      "metadata": {
        "id": "Xoia3ZngmBI9",
        "colab_type": "code",
        "cellView": "both",
        "colab": {}
      },
      "cell_type": "code",
      "source": [
        "#@title This needs to be performed only once. Done already?\n",
        "#@markdown Tick the relevant boxes if performed already.\n",
        "\n",
        "done_for_train = False #@param {type:\"boolean\"}\n",
        "done_for_test = False #@param {type:\"boolean\"}\n",
        "\n",
        "i = -1  # Reset progress bar\n",
        "\n",
        "if not done_for_train:\n",
        "  correctImagesANTs(train=True)  # For train\n",
        "  i = -1  # Reset progress bar\n",
        "\n",
        "if not done_for_test:\n",
        "  correctImagesANTs(train=False)  # For test\n",
        "  i = -1  # Reset progress bar"
      ],
      "execution_count": 0,
      "outputs": []
    },
    {
      "metadata": {
        "id": "lQ_wA4e9nusm",
        "colab_type": "code",
        "colab": {}
      },
      "cell_type": "code",
      "source": [
        ""
      ],
      "execution_count": 0,
      "outputs": []
    },
    {
      "metadata": {
        "id": "lxz10nVFl4VU",
        "colab_type": "text"
      },
      "cell_type": "markdown",
      "source": [
        "## Skull Stripping\n",
        "&lt;TODO>"
      ]
    },
    {
      "metadata": {
        "id": "e6iv-8JIl6na",
        "colab_type": "code",
        "colab": {}
      },
      "cell_type": "code",
      "source": [
        ""
      ],
      "execution_count": 0,
      "outputs": []
    },
    {
      "metadata": {
        "id": "y2OHaNJQl6iY",
        "colab_type": "code",
        "colab": {}
      },
      "cell_type": "code",
      "source": [
        ""
      ],
      "execution_count": 0,
      "outputs": []
    },
    {
      "metadata": {
        "id": "ltkxj9zyl69m",
        "colab_type": "text"
      },
      "cell_type": "markdown",
      "source": [
        "## Normalization\n",
        "&lt;TODO>"
      ]
    },
    {
      "metadata": {
        "id": "GTMY4xHLl_zR",
        "colab_type": "code",
        "colab": {}
      },
      "cell_type": "code",
      "source": [
        ""
      ],
      "execution_count": 0,
      "outputs": []
    },
    {
      "metadata": {
        "id": "YMWE_TvBl_wP",
        "colab_type": "code",
        "colab": {}
      },
      "cell_type": "code",
      "source": [
        ""
      ],
      "execution_count": 0,
      "outputs": []
    },
    {
      "metadata": {
        "id": "bMhXPaV4BQLq",
        "colab_type": "text"
      },
      "cell_type": "markdown",
      "source": [
        "# Scratchpad"
      ]
    },
    {
      "metadata": {
        "id": "nHBOOR8wbHfn",
        "colab_type": "code",
        "colab": {}
      },
      "cell_type": "code",
      "source": [
        ""
      ],
      "execution_count": 0,
      "outputs": []
    },
    {
      "metadata": {
        "id": "jXNMHNi3UKIe",
        "colab_type": "text"
      },
      "cell_type": "markdown",
      "source": [
        "# Legacy Code\n",
        "\n",
        "Old, slow, no-longer-to-be-used code."
      ]
    },
    {
      "metadata": {
        "id": "n-iWd0VtnBOb",
        "colab_type": "text"
      },
      "cell_type": "markdown",
      "source": [
        "## N4 Bias Correction"
      ]
    },
    {
      "metadata": {
        "id": "-QTO4bMDeHAd",
        "colab_type": "text"
      },
      "cell_type": "markdown",
      "source": [
        "### SITK, Without Parallelization\n",
        "(Slowest, don't use.)"
      ]
    },
    {
      "metadata": {
        "id": "WK4SlekMm9m9",
        "colab_type": "code",
        "colab": {}
      },
      "cell_type": "code",
      "source": [
        "# def N4BiasCorrect(img):\n",
        "#     maskImage = sitk.OtsuThreshold(img, 0, 1, 200)  # From SITK Docs\n",
        "#     img = sitk.Cast(img, sitk.sitkFloat32)\n",
        "#     corrector = sitk.N4BiasFieldCorrectionImageFilter()\n",
        "#     output = corrector.Execute(img, maskImage)\n",
        "#     return output\n",
        "\n",
        "\n",
        "# def correctImages(train=True):\n",
        "#   if train:\n",
        "#     data_path=\"BRATS2015/training\"\n",
        "#     folders=['HGG', 'LGG']\n",
        "#     save_path=\"BRATS2015_corrected/training\"\n",
        "#   else:\n",
        "#     data_path=\"BRATS2015/testing\"\n",
        "#     folders=['HGG_LGG']\n",
        "#     save_path=\"BRATS2015_corrected/testing\"\n",
        "\n",
        "#   # Get paths for all the images of all the types in the dataset\n",
        "#   images = getImagePaths(train=train)\n",
        "\n",
        "# #   corrected = \n",
        "#   # Just some variables for progress bar\n",
        "#   m = len(images)\n",
        "#   step = 25 / m\n",
        "#   i = -1\n",
        "#   for path, mris in images.items():\n",
        "#     i += 1\n",
        "\n",
        "#     t1 = N4BiasCorrect(sitk.ReadImage(f'{data_path}/{path}/{mris[\"t1\"]}'))\n",
        "#     t1c = N4BiasCorrect(sitk.ReadImage(f'{data_path}/{path}/{mris[\"t1c\"]}'))\n",
        "#     t2 = N4BiasCorrect(sitk.ReadImage(f'{data_path}/{path}/{mris[\"t2\"]}'))\n",
        "#     flair = N4BiasCorrect(sitk.ReadImage(f'{data_path}/{path}/{mris[\"flair\"]}'))\n",
        "\n",
        "#     if train:\n",
        "#       ot = N4BiasCorrect(sitk.ReadImage(f'{data_path}/{path}/{mris[\"ot\"]}'))\n",
        "#       sequences = ['t1', 't1c', 't2', 'flair', 'ot']\n",
        "#     else:\n",
        "#       sequences = ['t1', 't1c', 't2', 'flair']\n",
        "\n",
        "#     shutil.os.makedirs(f'{save_path}/{path}')\n",
        "\n",
        "#     for sequence in sequences:\n",
        "#       sitk.WriteImage(eval(sequence), f\"{save_path}/{path}/{mris[sequence]}\")\n",
        "\n",
        "#     print('\\r' + f'Progress: '\n",
        "#             f\"[{'=' * int((i+1) * step) + ' ' * (24 - int((i+1) * step))}]\"\n",
        "#             f\"({math.ceil((i+1) * 100 / m)} %)\",\n",
        "#             end='')\n"
      ],
      "execution_count": 0,
      "outputs": []
    },
    {
      "metadata": {
        "id": "wx0Xhm5icvJ5",
        "colab_type": "text"
      },
      "cell_type": "markdown",
      "source": [
        "### SITK, With Parallelization\n",
        "(Faster than earlier, but still quite slow. Don't use.)"
      ]
    },
    {
      "metadata": {
        "colab_type": "code",
        "id": "JYjviJKSsVPN",
        "colab": {}
      },
      "cell_type": "code",
      "source": [
        "# # For progress bar\n",
        "# i = -1\n",
        "# m = None\n",
        "# step = None\n",
        "\n",
        "# def N4BiasCorrectParallel(image_path):\n",
        "#     global i, m, step\n",
        "#     i+= 1 \n",
        "    \n",
        "# #     print('CHK 1')  #DEBUG\n",
        "    \n",
        "#     # Skip an image if it is already corrected\n",
        "#     # or is being worked upon    \n",
        "#     if os.path.isfile(os.path.join(save_path, image_path)) \\\n",
        "#         or os.path.isfile(os.path.join(save_path, image_path + '.working')):\n",
        "#       print(f'\\r skipped {i}', end='')\n",
        "#       return\n",
        "#     else:  # Reserve the filename.\n",
        "#       try:  # If folder doesn't exist\n",
        "#         os.makedirs(  # Create necessary folders\n",
        "#             os.path.dirname(os.path.join(save_path, image_path))\n",
        "#         )\n",
        "#       except FileExistsError:  # If the folder exists\n",
        "#         pass\n",
        "      \n",
        "#       # Let others know this file is being worked upon\n",
        "#       Path(os.path.join(save_path, image_path + '.working')).touch()\n",
        "      \n",
        "# #     print('CHK 2')  #DEBUG\n",
        "#     img = sitk.ReadImage(os.path.join(data_path, image_path), sitk.sitkFloat64)\n",
        "#     output = sitk.N4BiasFieldCorrection(img, img > 0)\n",
        "    \n",
        "#     os.remove(os.path.join(save_path, image_path + '.working'))  # Remove the empty file\n",
        "    \n",
        "#     sitk.WriteImage(  # Save output image\n",
        "#         output, \n",
        "#         os.path.join(save_path, image_path)\n",
        "#     )\n",
        "    \n",
        "#     # print('CHK 5')  #DEBUG\n",
        "    \n",
        "#     # Print Progress\n",
        "#     print('\\r' + f'Progress: '\n",
        "#         f\"[{'=' * int((i+1) * step) + ' ' * (24 - int((i+1) * step))}]\"\n",
        "#         f\"({math.ceil((i+1) * 100 / m)} %)\",\n",
        "#         end='')   \n",
        "\n",
        "\n",
        "# def correctImagesParallel(train=True):\n",
        "  \n",
        "#   global m, step  # For progress bar\n",
        "#   # Get paths for all the images of all the types in the dataset\n",
        "#   images = getImagePathsList(train=train)\n",
        "  \n",
        "#   # Just some variables for progress bar\n",
        "#   m = len(images)\n",
        "#   step = 25 / m\n",
        "\n",
        "#   with executor.ProcessPoolExecutor() as ex:\n",
        "#     ex.map(N4BiasCorrectParallel, images)"
      ],
      "execution_count": 0,
      "outputs": []
    },
    {
      "metadata": {
        "id": "DwtEbpvHT9Np",
        "colab_type": "code",
        "colab": {}
      },
      "cell_type": "code",
      "source": [
        ""
      ],
      "execution_count": 0,
      "outputs": []
    }
  ]
}